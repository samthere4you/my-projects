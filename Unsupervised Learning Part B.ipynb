{
 "cells": [
  {
   "cell_type": "markdown",
   "id": "4c7c2d79",
   "metadata": {},
   "source": [
    "![alt text](https://drive.google.com/uc?export=view&id=1UXScsVx_Wni_JuDdB8LeTnM6jsPfIwkW)"
   ]
  },
  {
   "cell_type": "markdown",
   "id": "aed8d158",
   "metadata": {},
   "source": [
    "<span style=\"font-family: Arial; font-weight:bold;font-size:2em;color:#00b3e5;\"> Unsupervised Learning Project Part B\n",
    "    \n",
    "<span style=\"font-family: Arial; font-weight:bold;font-size:1.5em;color:#00b3e5;\"> Submitted by\n",
    "    \n",
    "<span style=\"font-family: Arial; font-weight:bold;font-size:1.5em;color:#00b3e5;\"> Shameer.Sutar\n"
   ]
  },
  {
   "cell_type": "markdown",
   "id": "832caf50",
   "metadata": {},
   "source": [
    "# • DOMAIN: Automobile\n",
    "\n",
    "**• CONTEXT: The purpose is to classify a given silhouette as one of three types of vehicle, using a set of features extracted from the silhouette.The vehicle may be viewed from one of many different angles.**\n",
    "\n",
    "**• DATA DESCRIPTION: The data contains features extracted from the silhouette of vehicles in different angles. Four \"Corgie\" model vehicles were used for the experiment: a double decker bus, Cheverolet van, Saab 9000 and an Opel Manta 400 cars. This particular combination of vehicles was chosen with the expectation that the bus, van and either one of the cars would be readily distinguishable, but it would be more difficult to distinguish between the cars.**\n",
    "\n",
    "**• All the features are numeric i.e. geometric features extracted from the silhouette.**\n",
    "\n",
    "**• PROJECT OBJECTIVE: Apply dimensionality reduction technique – PCA and train a model and compare relative results**"
   ]
  },
  {
   "cell_type": "code",
   "execution_count": 1,
   "id": "8cd7410c",
   "metadata": {},
   "outputs": [],
   "source": [
    "#importing necessary Libraries \n",
    "\n",
    "#working with data\n",
    "import pandas as pd\n",
    "import numpy as np\n",
    "\n",
    "#visualization\n",
    "import matplotlib.pyplot as plt\n",
    "import seaborn as sns\n",
    "%matplotlib inline\n",
    "\n",
    "## Scikit-learn features various classification, regression and clustering algorithms\n",
    "from sklearn import model_selection\n",
    "from sklearn.model_selection import train_test_split\n",
    "from sklearn import metrics\n",
    "from sklearn import preprocessing\n",
    "from sklearn.metrics import average_precision_score, confusion_matrix, accuracy_score, classification_report,f1_score\n",
    "\n",
    "## Scaling\n",
    "from sklearn.preprocessing import StandardScaler\n",
    "from scipy.stats import zscore\n",
    "\n",
    "## Algo\n",
    "from sklearn.svm import SVC\n",
    "from sklearn.decomposition import PCA\n",
    "from sklearn.cluster import KMeans\n",
    "from sklearn.metrics import precision_recall_fscore_support,log_loss,mean_absolute_error\n",
    "import warnings\n",
    "warnings.filterwarnings('ignore')"
   ]
  },
  {
   "cell_type": "markdown",
   "id": "abcd4f23",
   "metadata": {},
   "source": [
    "## <div style=\"background-color:#s3C130;font-size:20px;padding:10px 10px;color:black;border:4px solid #1C1B20\">Loading Data</div>"
   ]
  },
  {
   "cell_type": "code",
   "execution_count": 2,
   "id": "a904c49c",
   "metadata": {},
   "outputs": [],
   "source": [
    "df = pd.read_csv('vehicle.csv')"
   ]
  },
  {
   "cell_type": "code",
   "execution_count": 3,
   "id": "35337437",
   "metadata": {},
   "outputs": [
    {
     "data": {
      "text/html": [
       "<div>\n",
       "<style scoped>\n",
       "    .dataframe tbody tr th:only-of-type {\n",
       "        vertical-align: middle;\n",
       "    }\n",
       "\n",
       "    .dataframe tbody tr th {\n",
       "        vertical-align: top;\n",
       "    }\n",
       "\n",
       "    .dataframe thead th {\n",
       "        text-align: right;\n",
       "    }\n",
       "</style>\n",
       "<table border=\"1\" class=\"dataframe\">\n",
       "  <thead>\n",
       "    <tr style=\"text-align: right;\">\n",
       "      <th></th>\n",
       "      <th>compactness</th>\n",
       "      <th>circularity</th>\n",
       "      <th>distance_circularity</th>\n",
       "      <th>radius_ratio</th>\n",
       "      <th>pr.axis_aspect_ratio</th>\n",
       "      <th>max.length_aspect_ratio</th>\n",
       "      <th>scatter_ratio</th>\n",
       "      <th>elongatedness</th>\n",
       "      <th>pr.axis_rectangularity</th>\n",
       "      <th>max.length_rectangularity</th>\n",
       "      <th>scaled_variance</th>\n",
       "      <th>scaled_variance.1</th>\n",
       "      <th>scaled_radius_of_gyration</th>\n",
       "      <th>scaled_radius_of_gyration.1</th>\n",
       "      <th>skewness_about</th>\n",
       "      <th>skewness_about.1</th>\n",
       "      <th>skewness_about.2</th>\n",
       "      <th>hollows_ratio</th>\n",
       "      <th>class</th>\n",
       "    </tr>\n",
       "  </thead>\n",
       "  <tbody>\n",
       "    <tr>\n",
       "      <th>0</th>\n",
       "      <td>95</td>\n",
       "      <td>48.0</td>\n",
       "      <td>83.0</td>\n",
       "      <td>178.0</td>\n",
       "      <td>72.0</td>\n",
       "      <td>10</td>\n",
       "      <td>162.0</td>\n",
       "      <td>42.0</td>\n",
       "      <td>20.0</td>\n",
       "      <td>159</td>\n",
       "      <td>176.0</td>\n",
       "      <td>379.0</td>\n",
       "      <td>184.0</td>\n",
       "      <td>70.0</td>\n",
       "      <td>6.0</td>\n",
       "      <td>16.0</td>\n",
       "      <td>187.0</td>\n",
       "      <td>197</td>\n",
       "      <td>van</td>\n",
       "    </tr>\n",
       "    <tr>\n",
       "      <th>1</th>\n",
       "      <td>91</td>\n",
       "      <td>41.0</td>\n",
       "      <td>84.0</td>\n",
       "      <td>141.0</td>\n",
       "      <td>57.0</td>\n",
       "      <td>9</td>\n",
       "      <td>149.0</td>\n",
       "      <td>45.0</td>\n",
       "      <td>19.0</td>\n",
       "      <td>143</td>\n",
       "      <td>170.0</td>\n",
       "      <td>330.0</td>\n",
       "      <td>158.0</td>\n",
       "      <td>72.0</td>\n",
       "      <td>9.0</td>\n",
       "      <td>14.0</td>\n",
       "      <td>189.0</td>\n",
       "      <td>199</td>\n",
       "      <td>van</td>\n",
       "    </tr>\n",
       "    <tr>\n",
       "      <th>2</th>\n",
       "      <td>104</td>\n",
       "      <td>50.0</td>\n",
       "      <td>106.0</td>\n",
       "      <td>209.0</td>\n",
       "      <td>66.0</td>\n",
       "      <td>10</td>\n",
       "      <td>207.0</td>\n",
       "      <td>32.0</td>\n",
       "      <td>23.0</td>\n",
       "      <td>158</td>\n",
       "      <td>223.0</td>\n",
       "      <td>635.0</td>\n",
       "      <td>220.0</td>\n",
       "      <td>73.0</td>\n",
       "      <td>14.0</td>\n",
       "      <td>9.0</td>\n",
       "      <td>188.0</td>\n",
       "      <td>196</td>\n",
       "      <td>car</td>\n",
       "    </tr>\n",
       "    <tr>\n",
       "      <th>3</th>\n",
       "      <td>93</td>\n",
       "      <td>41.0</td>\n",
       "      <td>82.0</td>\n",
       "      <td>159.0</td>\n",
       "      <td>63.0</td>\n",
       "      <td>9</td>\n",
       "      <td>144.0</td>\n",
       "      <td>46.0</td>\n",
       "      <td>19.0</td>\n",
       "      <td>143</td>\n",
       "      <td>160.0</td>\n",
       "      <td>309.0</td>\n",
       "      <td>127.0</td>\n",
       "      <td>63.0</td>\n",
       "      <td>6.0</td>\n",
       "      <td>10.0</td>\n",
       "      <td>199.0</td>\n",
       "      <td>207</td>\n",
       "      <td>van</td>\n",
       "    </tr>\n",
       "    <tr>\n",
       "      <th>4</th>\n",
       "      <td>85</td>\n",
       "      <td>44.0</td>\n",
       "      <td>70.0</td>\n",
       "      <td>205.0</td>\n",
       "      <td>103.0</td>\n",
       "      <td>52</td>\n",
       "      <td>149.0</td>\n",
       "      <td>45.0</td>\n",
       "      <td>19.0</td>\n",
       "      <td>144</td>\n",
       "      <td>241.0</td>\n",
       "      <td>325.0</td>\n",
       "      <td>188.0</td>\n",
       "      <td>127.0</td>\n",
       "      <td>9.0</td>\n",
       "      <td>11.0</td>\n",
       "      <td>180.0</td>\n",
       "      <td>183</td>\n",
       "      <td>bus</td>\n",
       "    </tr>\n",
       "    <tr>\n",
       "      <th>...</th>\n",
       "      <td>...</td>\n",
       "      <td>...</td>\n",
       "      <td>...</td>\n",
       "      <td>...</td>\n",
       "      <td>...</td>\n",
       "      <td>...</td>\n",
       "      <td>...</td>\n",
       "      <td>...</td>\n",
       "      <td>...</td>\n",
       "      <td>...</td>\n",
       "      <td>...</td>\n",
       "      <td>...</td>\n",
       "      <td>...</td>\n",
       "      <td>...</td>\n",
       "      <td>...</td>\n",
       "      <td>...</td>\n",
       "      <td>...</td>\n",
       "      <td>...</td>\n",
       "      <td>...</td>\n",
       "    </tr>\n",
       "    <tr>\n",
       "      <th>841</th>\n",
       "      <td>93</td>\n",
       "      <td>39.0</td>\n",
       "      <td>87.0</td>\n",
       "      <td>183.0</td>\n",
       "      <td>64.0</td>\n",
       "      <td>8</td>\n",
       "      <td>169.0</td>\n",
       "      <td>40.0</td>\n",
       "      <td>20.0</td>\n",
       "      <td>134</td>\n",
       "      <td>200.0</td>\n",
       "      <td>422.0</td>\n",
       "      <td>149.0</td>\n",
       "      <td>72.0</td>\n",
       "      <td>7.0</td>\n",
       "      <td>25.0</td>\n",
       "      <td>188.0</td>\n",
       "      <td>195</td>\n",
       "      <td>car</td>\n",
       "    </tr>\n",
       "    <tr>\n",
       "      <th>842</th>\n",
       "      <td>89</td>\n",
       "      <td>46.0</td>\n",
       "      <td>84.0</td>\n",
       "      <td>163.0</td>\n",
       "      <td>66.0</td>\n",
       "      <td>11</td>\n",
       "      <td>159.0</td>\n",
       "      <td>43.0</td>\n",
       "      <td>20.0</td>\n",
       "      <td>159</td>\n",
       "      <td>173.0</td>\n",
       "      <td>368.0</td>\n",
       "      <td>176.0</td>\n",
       "      <td>72.0</td>\n",
       "      <td>1.0</td>\n",
       "      <td>20.0</td>\n",
       "      <td>186.0</td>\n",
       "      <td>197</td>\n",
       "      <td>van</td>\n",
       "    </tr>\n",
       "    <tr>\n",
       "      <th>843</th>\n",
       "      <td>106</td>\n",
       "      <td>54.0</td>\n",
       "      <td>101.0</td>\n",
       "      <td>222.0</td>\n",
       "      <td>67.0</td>\n",
       "      <td>12</td>\n",
       "      <td>222.0</td>\n",
       "      <td>30.0</td>\n",
       "      <td>25.0</td>\n",
       "      <td>173</td>\n",
       "      <td>228.0</td>\n",
       "      <td>721.0</td>\n",
       "      <td>200.0</td>\n",
       "      <td>70.0</td>\n",
       "      <td>3.0</td>\n",
       "      <td>4.0</td>\n",
       "      <td>187.0</td>\n",
       "      <td>201</td>\n",
       "      <td>car</td>\n",
       "    </tr>\n",
       "    <tr>\n",
       "      <th>844</th>\n",
       "      <td>86</td>\n",
       "      <td>36.0</td>\n",
       "      <td>78.0</td>\n",
       "      <td>146.0</td>\n",
       "      <td>58.0</td>\n",
       "      <td>7</td>\n",
       "      <td>135.0</td>\n",
       "      <td>50.0</td>\n",
       "      <td>18.0</td>\n",
       "      <td>124</td>\n",
       "      <td>155.0</td>\n",
       "      <td>270.0</td>\n",
       "      <td>148.0</td>\n",
       "      <td>66.0</td>\n",
       "      <td>0.0</td>\n",
       "      <td>25.0</td>\n",
       "      <td>190.0</td>\n",
       "      <td>195</td>\n",
       "      <td>car</td>\n",
       "    </tr>\n",
       "    <tr>\n",
       "      <th>845</th>\n",
       "      <td>85</td>\n",
       "      <td>36.0</td>\n",
       "      <td>66.0</td>\n",
       "      <td>123.0</td>\n",
       "      <td>55.0</td>\n",
       "      <td>5</td>\n",
       "      <td>120.0</td>\n",
       "      <td>56.0</td>\n",
       "      <td>17.0</td>\n",
       "      <td>128</td>\n",
       "      <td>140.0</td>\n",
       "      <td>212.0</td>\n",
       "      <td>131.0</td>\n",
       "      <td>73.0</td>\n",
       "      <td>1.0</td>\n",
       "      <td>18.0</td>\n",
       "      <td>186.0</td>\n",
       "      <td>190</td>\n",
       "      <td>van</td>\n",
       "    </tr>\n",
       "  </tbody>\n",
       "</table>\n",
       "<p>846 rows × 19 columns</p>\n",
       "</div>"
      ],
      "text/plain": [
       "     compactness  circularity  distance_circularity  radius_ratio  \\\n",
       "0             95         48.0                  83.0         178.0   \n",
       "1             91         41.0                  84.0         141.0   \n",
       "2            104         50.0                 106.0         209.0   \n",
       "3             93         41.0                  82.0         159.0   \n",
       "4             85         44.0                  70.0         205.0   \n",
       "..           ...          ...                   ...           ...   \n",
       "841           93         39.0                  87.0         183.0   \n",
       "842           89         46.0                  84.0         163.0   \n",
       "843          106         54.0                 101.0         222.0   \n",
       "844           86         36.0                  78.0         146.0   \n",
       "845           85         36.0                  66.0         123.0   \n",
       "\n",
       "     pr.axis_aspect_ratio  max.length_aspect_ratio  scatter_ratio  \\\n",
       "0                    72.0                       10          162.0   \n",
       "1                    57.0                        9          149.0   \n",
       "2                    66.0                       10          207.0   \n",
       "3                    63.0                        9          144.0   \n",
       "4                   103.0                       52          149.0   \n",
       "..                    ...                      ...            ...   \n",
       "841                  64.0                        8          169.0   \n",
       "842                  66.0                       11          159.0   \n",
       "843                  67.0                       12          222.0   \n",
       "844                  58.0                        7          135.0   \n",
       "845                  55.0                        5          120.0   \n",
       "\n",
       "     elongatedness  pr.axis_rectangularity  max.length_rectangularity  \\\n",
       "0             42.0                    20.0                        159   \n",
       "1             45.0                    19.0                        143   \n",
       "2             32.0                    23.0                        158   \n",
       "3             46.0                    19.0                        143   \n",
       "4             45.0                    19.0                        144   \n",
       "..             ...                     ...                        ...   \n",
       "841           40.0                    20.0                        134   \n",
       "842           43.0                    20.0                        159   \n",
       "843           30.0                    25.0                        173   \n",
       "844           50.0                    18.0                        124   \n",
       "845           56.0                    17.0                        128   \n",
       "\n",
       "     scaled_variance  scaled_variance.1  scaled_radius_of_gyration  \\\n",
       "0              176.0              379.0                      184.0   \n",
       "1              170.0              330.0                      158.0   \n",
       "2              223.0              635.0                      220.0   \n",
       "3              160.0              309.0                      127.0   \n",
       "4              241.0              325.0                      188.0   \n",
       "..               ...                ...                        ...   \n",
       "841            200.0              422.0                      149.0   \n",
       "842            173.0              368.0                      176.0   \n",
       "843            228.0              721.0                      200.0   \n",
       "844            155.0              270.0                      148.0   \n",
       "845            140.0              212.0                      131.0   \n",
       "\n",
       "     scaled_radius_of_gyration.1  skewness_about  skewness_about.1  \\\n",
       "0                           70.0             6.0              16.0   \n",
       "1                           72.0             9.0              14.0   \n",
       "2                           73.0            14.0               9.0   \n",
       "3                           63.0             6.0              10.0   \n",
       "4                          127.0             9.0              11.0   \n",
       "..                           ...             ...               ...   \n",
       "841                         72.0             7.0              25.0   \n",
       "842                         72.0             1.0              20.0   \n",
       "843                         70.0             3.0               4.0   \n",
       "844                         66.0             0.0              25.0   \n",
       "845                         73.0             1.0              18.0   \n",
       "\n",
       "     skewness_about.2  hollows_ratio class  \n",
       "0               187.0            197   van  \n",
       "1               189.0            199   van  \n",
       "2               188.0            196   car  \n",
       "3               199.0            207   van  \n",
       "4               180.0            183   bus  \n",
       "..                ...            ...   ...  \n",
       "841             188.0            195   car  \n",
       "842             186.0            197   van  \n",
       "843             187.0            201   car  \n",
       "844             190.0            195   car  \n",
       "845             186.0            190   van  \n",
       "\n",
       "[846 rows x 19 columns]"
      ]
     },
     "execution_count": 3,
     "metadata": {},
     "output_type": "execute_result"
    }
   ],
   "source": [
    "df"
   ]
  },
  {
   "cell_type": "code",
   "execution_count": 4,
   "id": "7bf6c048",
   "metadata": {},
   "outputs": [
    {
     "data": {
      "text/plain": [
       "Index(['compactness', 'circularity', 'distance_circularity', 'radius_ratio',\n",
       "       'pr.axis_aspect_ratio', 'max.length_aspect_ratio', 'scatter_ratio',\n",
       "       'elongatedness', 'pr.axis_rectangularity', 'max.length_rectangularity',\n",
       "       'scaled_variance', 'scaled_variance.1', 'scaled_radius_of_gyration',\n",
       "       'scaled_radius_of_gyration.1', 'skewness_about', 'skewness_about.1',\n",
       "       'skewness_about.2', 'hollows_ratio', 'class'],\n",
       "      dtype='object')"
      ]
     },
     "execution_count": 4,
     "metadata": {},
     "output_type": "execute_result"
    }
   ],
   "source": [
    "#fetch all columns\n",
    "df.columns"
   ]
  },
  {
   "cell_type": "code",
   "execution_count": 5,
   "id": "4c6961cb",
   "metadata": {},
   "outputs": [
    {
     "data": {
      "text/plain": [
       "compactness                      int64\n",
       "circularity                    float64\n",
       "distance_circularity           float64\n",
       "radius_ratio                   float64\n",
       "pr.axis_aspect_ratio           float64\n",
       "max.length_aspect_ratio          int64\n",
       "scatter_ratio                  float64\n",
       "elongatedness                  float64\n",
       "pr.axis_rectangularity         float64\n",
       "max.length_rectangularity        int64\n",
       "scaled_variance                float64\n",
       "scaled_variance.1              float64\n",
       "scaled_radius_of_gyration      float64\n",
       "scaled_radius_of_gyration.1    float64\n",
       "skewness_about                 float64\n",
       "skewness_about.1               float64\n",
       "skewness_about.2               float64\n",
       "hollows_ratio                    int64\n",
       "class                           object\n",
       "dtype: object"
      ]
     },
     "execution_count": 5,
     "metadata": {},
     "output_type": "execute_result"
    }
   ],
   "source": [
    "#checking datatypes of each column\n",
    "df.dtypes"
   ]
  },
  {
   "cell_type": "code",
   "execution_count": 6,
   "id": "4bcb1c26",
   "metadata": {},
   "outputs": [
    {
     "name": "stdout",
     "output_type": "stream",
     "text": [
      "Data set contains \"846\" number of rows and \"19\" number of columns\n"
     ]
    }
   ],
   "source": [
    "#shape of data \n",
    "shape_Data = df.shape\n",
    "print('Data set contains \"{x}\" number of rows and \"{y}\" number of columns' .format(x=shape_Data[0],y=shape_Data[1]))"
   ]
  },
  {
   "cell_type": "code",
   "execution_count": 7,
   "id": "406ba87e",
   "metadata": {},
   "outputs": [
    {
     "name": "stdout",
     "output_type": "stream",
     "text": [
      "<class 'pandas.core.frame.DataFrame'>\n",
      "RangeIndex: 846 entries, 0 to 845\n",
      "Data columns (total 19 columns):\n",
      " #   Column                       Non-Null Count  Dtype  \n",
      "---  ------                       --------------  -----  \n",
      " 0   compactness                  846 non-null    int64  \n",
      " 1   circularity                  841 non-null    float64\n",
      " 2   distance_circularity         842 non-null    float64\n",
      " 3   radius_ratio                 840 non-null    float64\n",
      " 4   pr.axis_aspect_ratio         844 non-null    float64\n",
      " 5   max.length_aspect_ratio      846 non-null    int64  \n",
      " 6   scatter_ratio                845 non-null    float64\n",
      " 7   elongatedness                845 non-null    float64\n",
      " 8   pr.axis_rectangularity       843 non-null    float64\n",
      " 9   max.length_rectangularity    846 non-null    int64  \n",
      " 10  scaled_variance              843 non-null    float64\n",
      " 11  scaled_variance.1            844 non-null    float64\n",
      " 12  scaled_radius_of_gyration    844 non-null    float64\n",
      " 13  scaled_radius_of_gyration.1  842 non-null    float64\n",
      " 14  skewness_about               840 non-null    float64\n",
      " 15  skewness_about.1             845 non-null    float64\n",
      " 16  skewness_about.2             845 non-null    float64\n",
      " 17  hollows_ratio                846 non-null    int64  \n",
      " 18  class                        846 non-null    object \n",
      "dtypes: float64(14), int64(4), object(1)\n",
      "memory usage: 125.7+ KB\n"
     ]
    }
   ],
   "source": [
    "#Data info \n",
    "df.info()"
   ]
  },
  {
   "cell_type": "markdown",
   "id": "1f7937b0",
   "metadata": {},
   "source": [
    "## <div style=\"background-color:#s3C130;font-size:20px;padding:10px 10px;color:black;border:4px solid #1C1B20\">feature-wise percentage of missing values  and checking for unexpected values</div>"
   ]
  },
  {
   "cell_type": "code",
   "execution_count": 8,
   "id": "aeb173e1",
   "metadata": {},
   "outputs": [
    {
     "data": {
      "text/plain": [
       "compactness                    0\n",
       "circularity                    5\n",
       "distance_circularity           4\n",
       "radius_ratio                   6\n",
       "pr.axis_aspect_ratio           2\n",
       "max.length_aspect_ratio        0\n",
       "scatter_ratio                  1\n",
       "elongatedness                  1\n",
       "pr.axis_rectangularity         3\n",
       "max.length_rectangularity      0\n",
       "scaled_variance                3\n",
       "scaled_variance.1              2\n",
       "scaled_radius_of_gyration      2\n",
       "scaled_radius_of_gyration.1    4\n",
       "skewness_about                 6\n",
       "skewness_about.1               1\n",
       "skewness_about.2               1\n",
       "hollows_ratio                  0\n",
       "class                          0\n",
       "dtype: int64"
      ]
     },
     "execution_count": 8,
     "metadata": {},
     "output_type": "execute_result"
    }
   ],
   "source": [
    "df.isnull().sum()"
   ]
  },
  {
   "cell_type": "code",
   "execution_count": 9,
   "id": "21daa11c",
   "metadata": {},
   "outputs": [
    {
     "data": {
      "text/plain": [
       "compactness                    0.000000\n",
       "circularity                    0.591017\n",
       "distance_circularity           0.472813\n",
       "radius_ratio                   0.709220\n",
       "pr.axis_aspect_ratio           0.236407\n",
       "max.length_aspect_ratio        0.000000\n",
       "scatter_ratio                  0.118203\n",
       "elongatedness                  0.118203\n",
       "pr.axis_rectangularity         0.354610\n",
       "max.length_rectangularity      0.000000\n",
       "scaled_variance                0.354610\n",
       "scaled_variance.1              0.236407\n",
       "scaled_radius_of_gyration      0.236407\n",
       "scaled_radius_of_gyration.1    0.472813\n",
       "skewness_about                 0.709220\n",
       "skewness_about.1               0.118203\n",
       "skewness_about.2               0.118203\n",
       "hollows_ratio                  0.000000\n",
       "class                          0.000000\n",
       "dtype: float64"
      ]
     },
     "execution_count": 9,
     "metadata": {},
     "output_type": "execute_result"
    }
   ],
   "source": [
    "df.isnull().sum() * 100 / len(df)"
   ]
  },
  {
   "cell_type": "code",
   "execution_count": 10,
   "id": "e052ddf4",
   "metadata": {},
   "outputs": [
    {
     "data": {
      "image/png": "[encoded data removed]",
      "text/plain": [
       "<Figure size 864x432 with 1 Axes>"
      ]
     },
     "metadata": {},
     "output_type": "display_data"
    }
   ],
   "source": [
    "#Null values percentage corresponding to the columns\n",
    "Percentage_Null = (pd.DataFrame(df.isnull().sum())/len(df))*100\n",
    "sns.set(rc={'figure.figsize':(12,6)})\n",
    "Percentage_Null.plot.bar()\n",
    "plt.xlabel(\"Columns with null values\")\n",
    "plt.ylabel(\"Null value percentage\");"
   ]
  },
  {
   "cell_type": "markdown",
   "id": "c93fbccb",
   "metadata": {},
   "source": [
    "## <div style=\"background-color:#s3C130;font-size:20px;padding:10px 10px;color:black;border:4px solid #1C1B20\">Handling the Missing Values</div>"
   ]
  },
  {
   "cell_type": "code",
   "execution_count": 11,
   "id": "22fc7905",
   "metadata": {},
   "outputs": [],
   "source": [
    "#Replacing the missing values by mean\n",
    "for i in df.columns[:17]:\n",
    "    mean_value = df[i].mean()\n",
    "    df[i] = df[i].fillna(mean_value)"
   ]
  },
  {
   "cell_type": "code",
   "execution_count": 12,
   "id": "3d0b99f5",
   "metadata": {},
   "outputs": [
    {
     "data": {
      "text/plain": [
       "compactness                    0\n",
       "circularity                    0\n",
       "distance_circularity           0\n",
       "radius_ratio                   0\n",
       "pr.axis_aspect_ratio           0\n",
       "max.length_aspect_ratio        0\n",
       "scatter_ratio                  0\n",
       "elongatedness                  0\n",
       "pr.axis_rectangularity         0\n",
       "max.length_rectangularity      0\n",
       "scaled_variance                0\n",
       "scaled_variance.1              0\n",
       "scaled_radius_of_gyration      0\n",
       "scaled_radius_of_gyration.1    0\n",
       "skewness_about                 0\n",
       "skewness_about.1               0\n",
       "skewness_about.2               0\n",
       "hollows_ratio                  0\n",
       "class                          0\n",
       "dtype: int64"
      ]
     },
     "execution_count": 12,
     "metadata": {},
     "output_type": "execute_result"
    }
   ],
   "source": [
    "#Again check for missing values\n",
    "df.isnull().sum()"
   ]
  },
  {
   "cell_type": "markdown",
   "id": "9b8b5a93",
   "metadata": {},
   "source": [
    "## <div style=\"background-color:#s3C130;font-size:20px;padding:10px 10px;color:black;border:4px solid #1C1B20\">Visualizing a Pie-chart and printing percentage of values for variable ‘class’</div>"
   ]
  },
  {
   "cell_type": "code",
   "execution_count": 13,
   "id": "7ef323f4",
   "metadata": {},
   "outputs": [
    {
     "data": {
      "image/png": "[encoded data removed]",
      "text/plain": [
       "<Figure size 1224x504 with 1 Axes>"
      ]
     },
     "metadata": {},
     "output_type": "display_data"
    }
   ],
   "source": [
    "plt.figure(figsize=(17,7))\n",
    "plt.pie(df[\"class\"].value_counts(),labels=df[\"class\"].value_counts().index,autopct='%1.1f%%')\n",
    "plt.show();"
   ]
  },
  {
   "cell_type": "markdown",
   "id": "5acdb5e2",
   "metadata": {},
   "source": [
    "## <div style=\"background-color:#s3C130;font-size:20px;padding:10px 10px;color:black;border:4px solid #1C1B20\">Checking for Duplicate Rows</div>"
   ]
  },
  {
   "cell_type": "code",
   "execution_count": 89,
   "id": "b5a8be4e",
   "metadata": {},
   "outputs": [
    {
     "data": {
      "text/html": [
       "<div>\n",
       "<style scoped>\n",
       "    .dataframe tbody tr th:only-of-type {\n",
       "        vertical-align: middle;\n",
       "    }\n",
       "\n",
       "    .dataframe tbody tr th {\n",
       "        vertical-align: top;\n",
       "    }\n",
       "\n",
       "    .dataframe thead th {\n",
       "        text-align: right;\n",
       "    }\n",
       "</style>\n",
       "<table border=\"1\" class=\"dataframe\">\n",
       "  <thead>\n",
       "    <tr style=\"text-align: right;\">\n",
       "      <th></th>\n",
       "      <th>compactness</th>\n",
       "      <th>circularity</th>\n",
       "      <th>distance_circularity</th>\n",
       "      <th>radius_ratio</th>\n",
       "      <th>pr.axis_aspect_ratio</th>\n",
       "      <th>max.length_aspect_ratio</th>\n",
       "      <th>scatter_ratio</th>\n",
       "      <th>elongatedness</th>\n",
       "      <th>pr.axis_rectangularity</th>\n",
       "      <th>max.length_rectangularity</th>\n",
       "      <th>scaled_variance</th>\n",
       "      <th>scaled_variance.1</th>\n",
       "      <th>scaled_radius_of_gyration</th>\n",
       "      <th>scaled_radius_of_gyration.1</th>\n",
       "      <th>skewness_about</th>\n",
       "      <th>skewness_about.1</th>\n",
       "      <th>skewness_about.2</th>\n",
       "      <th>hollows_ratio</th>\n",
       "      <th>class</th>\n",
       "    </tr>\n",
       "  </thead>\n",
       "  <tbody>\n",
       "  </tbody>\n",
       "</table>\n",
       "</div>"
      ],
      "text/plain": [
       "Empty DataFrame\n",
       "Columns: [compactness, circularity, distance_circularity, radius_ratio, pr.axis_aspect_ratio, max.length_aspect_ratio, scatter_ratio, elongatedness, pr.axis_rectangularity, max.length_rectangularity, scaled_variance, scaled_variance.1, scaled_radius_of_gyration, scaled_radius_of_gyration.1, skewness_about, skewness_about.1, skewness_about.2, hollows_ratio, class]\n",
       "Index: []"
      ]
     },
     "execution_count": 89,
     "metadata": {},
     "output_type": "execute_result"
    }
   ],
   "source": [
    "def check_duplicate(df):\n",
    "    duplicate=df[df.duplicated()]\n",
    "    return duplicate\n",
    "\n",
    "duplicate=check_duplicate(df)\n",
    "duplicate"
   ]
  },
  {
   "cell_type": "markdown",
   "id": "0655e970",
   "metadata": {},
   "source": [
    "## <div style=\"background-color:#s3C130;font-size:20px;padding:10px 10px;color:black;border:4px solid #1C1B20\">Variation of Target variable</div>"
   ]
  },
  {
   "cell_type": "code",
   "execution_count": 15,
   "id": "ef568eb0",
   "metadata": {},
   "outputs": [
    {
     "data": {
      "text/plain": [
       "array(['van', 'car', 'bus'], dtype=object)"
      ]
     },
     "execution_count": 15,
     "metadata": {},
     "output_type": "execute_result"
    }
   ],
   "source": [
    "df['class'].unique()"
   ]
  },
  {
   "cell_type": "code",
   "execution_count": 16,
   "id": "3d41b3c2",
   "metadata": {},
   "outputs": [
    {
     "data": {
      "text/plain": [
       "car    429\n",
       "bus    218\n",
       "van    199\n",
       "Name: class, dtype: int64"
      ]
     },
     "execution_count": 16,
     "metadata": {},
     "output_type": "execute_result"
    }
   ],
   "source": [
    "df['class'].value_counts()"
   ]
  },
  {
   "cell_type": "code",
   "execution_count": 17,
   "id": "77526f10",
   "metadata": {},
   "outputs": [
    {
     "data": {
      "image/png": "[encoded data removed]",
      "text/plain": [
       "<Figure size 864x432 with 1 Axes>"
      ]
     },
     "metadata": {},
     "output_type": "display_data"
    }
   ],
   "source": [
    "Class = sns.countplot(data = df, x = 'class')\n",
    "Class.set_xlabel('Types of Vehicle', fontsize=15);"
   ]
  },
  {
   "cell_type": "code",
   "execution_count": 18,
   "id": "523743be",
   "metadata": {},
   "outputs": [
    {
     "data": {
      "text/plain": [
       "1    429\n",
       "0    218\n",
       "2    199\n",
       "Name: class, dtype: int64"
      ]
     },
     "execution_count": 18,
     "metadata": {},
     "output_type": "execute_result"
    }
   ],
   "source": [
    "# Label encoder \n",
    "from sklearn.preprocessing import LabelEncoder\n",
    "#Encoding of categorical variable\n",
    "labelencoder_X=LabelEncoder()\n",
    "df['class']=labelencoder_X.fit_transform(df['class'])\n",
    "df['class'].value_counts()"
   ]
  },
  {
   "cell_type": "markdown",
   "id": "3adacbc9",
   "metadata": {},
   "source": [
    "Here <br>\n",
    "1-- Car <br>\n",
    "0-- Bus <br>\n",
    "2 -- Van<br>"
   ]
  },
  {
   "cell_type": "markdown",
   "id": "34e7dd2e",
   "metadata": {},
   "source": [
    "## <div style=\"background-color:#s3C130;font-size:20px;padding:10px 10px;color:black;border:4px solid #1C1B20\">Correlation of the dataset attributes</div>"
   ]
  },
  {
   "cell_type": "code",
   "execution_count": 19,
   "id": "5b1e0cf4",
   "metadata": {},
   "outputs": [
    {
     "data": {
      "text/html": [
       "<div>\n",
       "<style scoped>\n",
       "    .dataframe tbody tr th:only-of-type {\n",
       "        vertical-align: middle;\n",
       "    }\n",
       "\n",
       "    .dataframe tbody tr th {\n",
       "        vertical-align: top;\n",
       "    }\n",
       "\n",
       "    .dataframe thead th {\n",
       "        text-align: right;\n",
       "    }\n",
       "</style>\n",
       "<table border=\"1\" class=\"dataframe\">\n",
       "  <thead>\n",
       "    <tr style=\"text-align: right;\">\n",
       "      <th></th>\n",
       "      <th>compactness</th>\n",
       "      <th>circularity</th>\n",
       "      <th>distance_circularity</th>\n",
       "      <th>radius_ratio</th>\n",
       "      <th>pr.axis_aspect_ratio</th>\n",
       "      <th>max.length_aspect_ratio</th>\n",
       "      <th>scatter_ratio</th>\n",
       "      <th>elongatedness</th>\n",
       "      <th>pr.axis_rectangularity</th>\n",
       "      <th>max.length_rectangularity</th>\n",
       "      <th>scaled_variance</th>\n",
       "      <th>scaled_variance.1</th>\n",
       "      <th>scaled_radius_of_gyration</th>\n",
       "      <th>scaled_radius_of_gyration.1</th>\n",
       "      <th>skewness_about</th>\n",
       "      <th>skewness_about.1</th>\n",
       "      <th>skewness_about.2</th>\n",
       "      <th>hollows_ratio</th>\n",
       "      <th>class</th>\n",
       "    </tr>\n",
       "  </thead>\n",
       "  <tbody>\n",
       "    <tr>\n",
       "      <th>compactness</th>\n",
       "      <td>1.000000</td>\n",
       "      <td>0.685421</td>\n",
       "      <td>0.789909</td>\n",
       "      <td>0.689840</td>\n",
       "      <td>0.091704</td>\n",
       "      <td>0.148249</td>\n",
       "      <td>0.812235</td>\n",
       "      <td>-0.788643</td>\n",
       "      <td>0.813636</td>\n",
       "      <td>0.676143</td>\n",
       "      <td>0.762770</td>\n",
       "      <td>0.815901</td>\n",
       "      <td>0.585156</td>\n",
       "      <td>-0.250071</td>\n",
       "      <td>0.235687</td>\n",
       "      <td>0.157387</td>\n",
       "      <td>0.298526</td>\n",
       "      <td>0.365552</td>\n",
       "      <td>-0.033796</td>\n",
       "    </tr>\n",
       "    <tr>\n",
       "      <th>circularity</th>\n",
       "      <td>0.685421</td>\n",
       "      <td>1.000000</td>\n",
       "      <td>0.793016</td>\n",
       "      <td>0.620967</td>\n",
       "      <td>0.153362</td>\n",
       "      <td>0.251208</td>\n",
       "      <td>0.848207</td>\n",
       "      <td>-0.821901</td>\n",
       "      <td>0.844972</td>\n",
       "      <td>0.961943</td>\n",
       "      <td>0.796822</td>\n",
       "      <td>0.838525</td>\n",
       "      <td>0.926888</td>\n",
       "      <td>0.052642</td>\n",
       "      <td>0.144394</td>\n",
       "      <td>-0.011851</td>\n",
       "      <td>-0.105645</td>\n",
       "      <td>0.045318</td>\n",
       "      <td>-0.159804</td>\n",
       "    </tr>\n",
       "    <tr>\n",
       "      <th>distance_circularity</th>\n",
       "      <td>0.789909</td>\n",
       "      <td>0.793016</td>\n",
       "      <td>1.000000</td>\n",
       "      <td>0.767079</td>\n",
       "      <td>0.158397</td>\n",
       "      <td>0.264550</td>\n",
       "      <td>0.904400</td>\n",
       "      <td>-0.911435</td>\n",
       "      <td>0.893128</td>\n",
       "      <td>0.774669</td>\n",
       "      <td>0.861980</td>\n",
       "      <td>0.887328</td>\n",
       "      <td>0.705953</td>\n",
       "      <td>-0.225852</td>\n",
       "      <td>0.113813</td>\n",
       "      <td>0.265553</td>\n",
       "      <td>0.145563</td>\n",
       "      <td>0.332095</td>\n",
       "      <td>-0.064902</td>\n",
       "    </tr>\n",
       "    <tr>\n",
       "      <th>radius_ratio</th>\n",
       "      <td>0.689840</td>\n",
       "      <td>0.620967</td>\n",
       "      <td>0.767079</td>\n",
       "      <td>1.000000</td>\n",
       "      <td>0.663559</td>\n",
       "      <td>0.450036</td>\n",
       "      <td>0.734228</td>\n",
       "      <td>-0.789795</td>\n",
       "      <td>0.708285</td>\n",
       "      <td>0.569205</td>\n",
       "      <td>0.794041</td>\n",
       "      <td>0.720150</td>\n",
       "      <td>0.536536</td>\n",
       "      <td>-0.180819</td>\n",
       "      <td>0.048720</td>\n",
       "      <td>0.173832</td>\n",
       "      <td>0.382129</td>\n",
       "      <td>0.471262</td>\n",
       "      <td>-0.182270</td>\n",
       "    </tr>\n",
       "    <tr>\n",
       "      <th>pr.axis_aspect_ratio</th>\n",
       "      <td>0.091704</td>\n",
       "      <td>0.153362</td>\n",
       "      <td>0.158397</td>\n",
       "      <td>0.663559</td>\n",
       "      <td>1.000000</td>\n",
       "      <td>0.648704</td>\n",
       "      <td>0.103715</td>\n",
       "      <td>-0.183264</td>\n",
       "      <td>0.079395</td>\n",
       "      <td>0.127128</td>\n",
       "      <td>0.273414</td>\n",
       "      <td>0.089620</td>\n",
       "      <td>0.122111</td>\n",
       "      <td>0.152776</td>\n",
       "      <td>-0.058481</td>\n",
       "      <td>-0.032134</td>\n",
       "      <td>0.239849</td>\n",
       "      <td>0.267724</td>\n",
       "      <td>-0.098318</td>\n",
       "    </tr>\n",
       "    <tr>\n",
       "      <th>max.length_aspect_ratio</th>\n",
       "      <td>0.148249</td>\n",
       "      <td>0.251208</td>\n",
       "      <td>0.264550</td>\n",
       "      <td>0.450036</td>\n",
       "      <td>0.648704</td>\n",
       "      <td>1.000000</td>\n",
       "      <td>0.165967</td>\n",
       "      <td>-0.180041</td>\n",
       "      <td>0.161592</td>\n",
       "      <td>0.305943</td>\n",
       "      <td>0.318955</td>\n",
       "      <td>0.143713</td>\n",
       "      <td>0.189704</td>\n",
       "      <td>0.295574</td>\n",
       "      <td>0.015439</td>\n",
       "      <td>0.043489</td>\n",
       "      <td>-0.026180</td>\n",
       "      <td>0.143919</td>\n",
       "      <td>0.207619</td>\n",
       "    </tr>\n",
       "    <tr>\n",
       "      <th>scatter_ratio</th>\n",
       "      <td>0.812235</td>\n",
       "      <td>0.848207</td>\n",
       "      <td>0.904400</td>\n",
       "      <td>0.734228</td>\n",
       "      <td>0.103715</td>\n",
       "      <td>0.165967</td>\n",
       "      <td>1.000000</td>\n",
       "      <td>-0.970723</td>\n",
       "      <td>0.989370</td>\n",
       "      <td>0.808356</td>\n",
       "      <td>0.948296</td>\n",
       "      <td>0.993784</td>\n",
       "      <td>0.799266</td>\n",
       "      <td>-0.027985</td>\n",
       "      <td>0.074308</td>\n",
       "      <td>0.213127</td>\n",
       "      <td>0.005167</td>\n",
       "      <td>0.118448</td>\n",
       "      <td>-0.288904</td>\n",
       "    </tr>\n",
       "    <tr>\n",
       "      <th>elongatedness</th>\n",
       "      <td>-0.788643</td>\n",
       "      <td>-0.821901</td>\n",
       "      <td>-0.911435</td>\n",
       "      <td>-0.789795</td>\n",
       "      <td>-0.183264</td>\n",
       "      <td>-0.180041</td>\n",
       "      <td>-0.970723</td>\n",
       "      <td>1.000000</td>\n",
       "      <td>-0.949077</td>\n",
       "      <td>-0.775519</td>\n",
       "      <td>-0.936715</td>\n",
       "      <td>-0.955074</td>\n",
       "      <td>-0.766029</td>\n",
       "      <td>0.103481</td>\n",
       "      <td>-0.051997</td>\n",
       "      <td>-0.185691</td>\n",
       "      <td>-0.114727</td>\n",
       "      <td>-0.216719</td>\n",
       "      <td>0.339348</td>\n",
       "    </tr>\n",
       "    <tr>\n",
       "      <th>pr.axis_rectangularity</th>\n",
       "      <td>0.813636</td>\n",
       "      <td>0.844972</td>\n",
       "      <td>0.893128</td>\n",
       "      <td>0.708285</td>\n",
       "      <td>0.079395</td>\n",
       "      <td>0.161592</td>\n",
       "      <td>0.989370</td>\n",
       "      <td>-0.949077</td>\n",
       "      <td>1.000000</td>\n",
       "      <td>0.811447</td>\n",
       "      <td>0.934568</td>\n",
       "      <td>0.989490</td>\n",
       "      <td>0.797068</td>\n",
       "      <td>-0.015676</td>\n",
       "      <td>0.082974</td>\n",
       "      <td>0.214734</td>\n",
       "      <td>-0.018990</td>\n",
       "      <td>0.099191</td>\n",
       "      <td>-0.258479</td>\n",
       "    </tr>\n",
       "    <tr>\n",
       "      <th>max.length_rectangularity</th>\n",
       "      <td>0.676143</td>\n",
       "      <td>0.961943</td>\n",
       "      <td>0.774669</td>\n",
       "      <td>0.569205</td>\n",
       "      <td>0.127128</td>\n",
       "      <td>0.305943</td>\n",
       "      <td>0.808356</td>\n",
       "      <td>-0.775519</td>\n",
       "      <td>0.811447</td>\n",
       "      <td>1.000000</td>\n",
       "      <td>0.745209</td>\n",
       "      <td>0.796018</td>\n",
       "      <td>0.866425</td>\n",
       "      <td>0.041220</td>\n",
       "      <td>0.135745</td>\n",
       "      <td>0.001658</td>\n",
       "      <td>-0.104254</td>\n",
       "      <td>0.076770</td>\n",
       "      <td>-0.032399</td>\n",
       "    </tr>\n",
       "    <tr>\n",
       "      <th>scaled_variance</th>\n",
       "      <td>0.762770</td>\n",
       "      <td>0.796822</td>\n",
       "      <td>0.861980</td>\n",
       "      <td>0.794041</td>\n",
       "      <td>0.273414</td>\n",
       "      <td>0.318955</td>\n",
       "      <td>0.948296</td>\n",
       "      <td>-0.936715</td>\n",
       "      <td>0.934568</td>\n",
       "      <td>0.745209</td>\n",
       "      <td>1.000000</td>\n",
       "      <td>0.947021</td>\n",
       "      <td>0.778975</td>\n",
       "      <td>0.112299</td>\n",
       "      <td>0.036005</td>\n",
       "      <td>0.195260</td>\n",
       "      <td>0.014418</td>\n",
       "      <td>0.086594</td>\n",
       "      <td>-0.312443</td>\n",
       "    </tr>\n",
       "    <tr>\n",
       "      <th>scaled_variance.1</th>\n",
       "      <td>0.815901</td>\n",
       "      <td>0.838525</td>\n",
       "      <td>0.887328</td>\n",
       "      <td>0.720150</td>\n",
       "      <td>0.089620</td>\n",
       "      <td>0.143713</td>\n",
       "      <td>0.993784</td>\n",
       "      <td>-0.955074</td>\n",
       "      <td>0.989490</td>\n",
       "      <td>0.796018</td>\n",
       "      <td>0.947021</td>\n",
       "      <td>1.000000</td>\n",
       "      <td>0.796070</td>\n",
       "      <td>-0.016608</td>\n",
       "      <td>0.076974</td>\n",
       "      <td>0.201573</td>\n",
       "      <td>0.006637</td>\n",
       "      <td>0.103762</td>\n",
       "      <td>-0.288146</td>\n",
       "    </tr>\n",
       "    <tr>\n",
       "      <th>scaled_radius_of_gyration</th>\n",
       "      <td>0.585156</td>\n",
       "      <td>0.926888</td>\n",
       "      <td>0.705953</td>\n",
       "      <td>0.536536</td>\n",
       "      <td>0.122111</td>\n",
       "      <td>0.189704</td>\n",
       "      <td>0.799266</td>\n",
       "      <td>-0.766029</td>\n",
       "      <td>0.797068</td>\n",
       "      <td>0.866425</td>\n",
       "      <td>0.778975</td>\n",
       "      <td>0.796070</td>\n",
       "      <td>1.000000</td>\n",
       "      <td>0.191440</td>\n",
       "      <td>0.166371</td>\n",
       "      <td>-0.055973</td>\n",
       "      <td>-0.224866</td>\n",
       "      <td>-0.118157</td>\n",
       "      <td>-0.250389</td>\n",
       "    </tr>\n",
       "    <tr>\n",
       "      <th>scaled_radius_of_gyration.1</th>\n",
       "      <td>-0.250071</td>\n",
       "      <td>0.052642</td>\n",
       "      <td>-0.225852</td>\n",
       "      <td>-0.180819</td>\n",
       "      <td>0.152776</td>\n",
       "      <td>0.295574</td>\n",
       "      <td>-0.027985</td>\n",
       "      <td>0.103481</td>\n",
       "      <td>-0.015676</td>\n",
       "      <td>0.041220</td>\n",
       "      <td>0.112299</td>\n",
       "      <td>-0.016608</td>\n",
       "      <td>0.191440</td>\n",
       "      <td>1.000000</td>\n",
       "      <td>-0.088304</td>\n",
       "      <td>-0.126417</td>\n",
       "      <td>-0.749509</td>\n",
       "      <td>-0.802608</td>\n",
       "      <td>-0.212804</td>\n",
       "    </tr>\n",
       "    <tr>\n",
       "      <th>skewness_about</th>\n",
       "      <td>0.235687</td>\n",
       "      <td>0.144394</td>\n",
       "      <td>0.113813</td>\n",
       "      <td>0.048720</td>\n",
       "      <td>-0.058481</td>\n",
       "      <td>0.015439</td>\n",
       "      <td>0.074308</td>\n",
       "      <td>-0.051997</td>\n",
       "      <td>0.082974</td>\n",
       "      <td>0.135745</td>\n",
       "      <td>0.036005</td>\n",
       "      <td>0.076974</td>\n",
       "      <td>0.166371</td>\n",
       "      <td>-0.088304</td>\n",
       "      <td>1.000000</td>\n",
       "      <td>-0.035023</td>\n",
       "      <td>0.115145</td>\n",
       "      <td>0.096870</td>\n",
       "      <td>0.119099</td>\n",
       "    </tr>\n",
       "    <tr>\n",
       "      <th>skewness_about.1</th>\n",
       "      <td>0.157387</td>\n",
       "      <td>-0.011851</td>\n",
       "      <td>0.265553</td>\n",
       "      <td>0.173832</td>\n",
       "      <td>-0.032134</td>\n",
       "      <td>0.043489</td>\n",
       "      <td>0.213127</td>\n",
       "      <td>-0.185691</td>\n",
       "      <td>0.214734</td>\n",
       "      <td>0.001658</td>\n",
       "      <td>0.195260</td>\n",
       "      <td>0.201573</td>\n",
       "      <td>-0.055973</td>\n",
       "      <td>-0.126417</td>\n",
       "      <td>-0.035023</td>\n",
       "      <td>1.000000</td>\n",
       "      <td>0.077428</td>\n",
       "      <td>0.205090</td>\n",
       "      <td>-0.010674</td>\n",
       "    </tr>\n",
       "    <tr>\n",
       "      <th>skewness_about.2</th>\n",
       "      <td>0.298526</td>\n",
       "      <td>-0.105645</td>\n",
       "      <td>0.145563</td>\n",
       "      <td>0.382129</td>\n",
       "      <td>0.239849</td>\n",
       "      <td>-0.026180</td>\n",
       "      <td>0.005167</td>\n",
       "      <td>-0.114727</td>\n",
       "      <td>-0.018990</td>\n",
       "      <td>-0.104254</td>\n",
       "      <td>0.014418</td>\n",
       "      <td>0.006637</td>\n",
       "      <td>-0.224866</td>\n",
       "      <td>-0.749509</td>\n",
       "      <td>0.115145</td>\n",
       "      <td>0.077428</td>\n",
       "      <td>1.000000</td>\n",
       "      <td>0.892840</td>\n",
       "      <td>0.067251</td>\n",
       "    </tr>\n",
       "    <tr>\n",
       "      <th>hollows_ratio</th>\n",
       "      <td>0.365552</td>\n",
       "      <td>0.045318</td>\n",
       "      <td>0.332095</td>\n",
       "      <td>0.471262</td>\n",
       "      <td>0.267724</td>\n",
       "      <td>0.143919</td>\n",
       "      <td>0.118448</td>\n",
       "      <td>-0.216719</td>\n",
       "      <td>0.099191</td>\n",
       "      <td>0.076770</td>\n",
       "      <td>0.086594</td>\n",
       "      <td>0.103762</td>\n",
       "      <td>-0.118157</td>\n",
       "      <td>-0.802608</td>\n",
       "      <td>0.096870</td>\n",
       "      <td>0.205090</td>\n",
       "      <td>0.892840</td>\n",
       "      <td>1.000000</td>\n",
       "      <td>0.235874</td>\n",
       "    </tr>\n",
       "    <tr>\n",
       "      <th>class</th>\n",
       "      <td>-0.033796</td>\n",
       "      <td>-0.159804</td>\n",
       "      <td>-0.064902</td>\n",
       "      <td>-0.182270</td>\n",
       "      <td>-0.098318</td>\n",
       "      <td>0.207619</td>\n",
       "      <td>-0.288904</td>\n",
       "      <td>0.339348</td>\n",
       "      <td>-0.258479</td>\n",
       "      <td>-0.032399</td>\n",
       "      <td>-0.312443</td>\n",
       "      <td>-0.288146</td>\n",
       "      <td>-0.250389</td>\n",
       "      <td>-0.212804</td>\n",
       "      <td>0.119099</td>\n",
       "      <td>-0.010674</td>\n",
       "      <td>0.067251</td>\n",
       "      <td>0.235874</td>\n",
       "      <td>1.000000</td>\n",
       "    </tr>\n",
       "  </tbody>\n",
       "</table>\n",
       "</div>"
      ],
      "text/plain": [
       "                             compactness  circularity  distance_circularity  \\\n",
       "compactness                     1.000000     0.685421              0.789909   \n",
       "circularity                     0.685421     1.000000              0.793016   \n",
       "distance_circularity            0.789909     0.793016              1.000000   \n",
       "radius_ratio                    0.689840     0.620967              0.767079   \n",
       "pr.axis_aspect_ratio            0.091704     0.153362              0.158397   \n",
       "max.length_aspect_ratio         0.148249     0.251208              0.264550   \n",
       "scatter_ratio                   0.812235     0.848207              0.904400   \n",
       "elongatedness                  -0.788643    -0.821901             -0.911435   \n",
       "pr.axis_rectangularity          0.813636     0.844972              0.893128   \n",
       "max.length_rectangularity       0.676143     0.961943              0.774669   \n",
       "scaled_variance                 0.762770     0.796822              0.861980   \n",
       "scaled_variance.1               0.815901     0.838525              0.887328   \n",
       "scaled_radius_of_gyration       0.585156     0.926888              0.705953   \n",
       "scaled_radius_of_gyration.1    -0.250071     0.052642             -0.225852   \n",
       "skewness_about                  0.235687     0.144394              0.113813   \n",
       "skewness_about.1                0.157387    -0.011851              0.265553   \n",
       "skewness_about.2                0.298526    -0.105645              0.145563   \n",
       "hollows_ratio                   0.365552     0.045318              0.332095   \n",
       "class                          -0.033796    -0.159804             -0.064902   \n",
       "\n",
       "                             radius_ratio  pr.axis_aspect_ratio  \\\n",
       "compactness                      0.689840              0.091704   \n",
       "circularity                      0.620967              0.153362   \n",
       "distance_circularity             0.767079              0.158397   \n",
       "radius_ratio                     1.000000              0.663559   \n",
       "pr.axis_aspect_ratio             0.663559              1.000000   \n",
       "max.length_aspect_ratio          0.450036              0.648704   \n",
       "scatter_ratio                    0.734228              0.103715   \n",
       "elongatedness                   -0.789795             -0.183264   \n",
       "pr.axis_rectangularity           0.708285              0.079395   \n",
       "max.length_rectangularity        0.569205              0.127128   \n",
       "scaled_variance                  0.794041              0.273414   \n",
       "scaled_variance.1                0.720150              0.089620   \n",
       "scaled_radius_of_gyration        0.536536              0.122111   \n",
       "scaled_radius_of_gyration.1     -0.180819              0.152776   \n",
       "skewness_about                   0.048720             -0.058481   \n",
       "skewness_about.1                 0.173832             -0.032134   \n",
       "skewness_about.2                 0.382129              0.239849   \n",
       "hollows_ratio                    0.471262              0.267724   \n",
       "class                           -0.182270             -0.098318   \n",
       "\n",
       "                             max.length_aspect_ratio  scatter_ratio  \\\n",
       "compactness                                 0.148249       0.812235   \n",
       "circularity                                 0.251208       0.848207   \n",
       "distance_circularity                        0.264550       0.904400   \n",
       "radius_ratio                                0.450036       0.734228   \n",
       "pr.axis_aspect_ratio                        0.648704       0.103715   \n",
       "max.length_aspect_ratio                     1.000000       0.165967   \n",
       "scatter_ratio                               0.165967       1.000000   \n",
       "elongatedness                              -0.180041      -0.970723   \n",
       "pr.axis_rectangularity                      0.161592       0.989370   \n",
       "max.length_rectangularity                   0.305943       0.808356   \n",
       "scaled_variance                             0.318955       0.948296   \n",
       "scaled_variance.1                           0.143713       0.993784   \n",
       "scaled_radius_of_gyration                   0.189704       0.799266   \n",
       "scaled_radius_of_gyration.1                 0.295574      -0.027985   \n",
       "skewness_about                              0.015439       0.074308   \n",
       "skewness_about.1                            0.043489       0.213127   \n",
       "skewness_about.2                           -0.026180       0.005167   \n",
       "hollows_ratio                               0.143919       0.118448   \n",
       "class                                       0.207619      -0.288904   \n",
       "\n",
       "                             elongatedness  pr.axis_rectangularity  \\\n",
       "compactness                      -0.788643                0.813636   \n",
       "circularity                      -0.821901                0.844972   \n",
       "distance_circularity             -0.911435                0.893128   \n",
       "radius_ratio                     -0.789795                0.708285   \n",
       "pr.axis_aspect_ratio             -0.183264                0.079395   \n",
       "max.length_aspect_ratio          -0.180041                0.161592   \n",
       "scatter_ratio                    -0.970723                0.989370   \n",
       "elongatedness                     1.000000               -0.949077   \n",
       "pr.axis_rectangularity           -0.949077                1.000000   \n",
       "max.length_rectangularity        -0.775519                0.811447   \n",
       "scaled_variance                  -0.936715                0.934568   \n",
       "scaled_variance.1                -0.955074                0.989490   \n",
       "scaled_radius_of_gyration        -0.766029                0.797068   \n",
       "scaled_radius_of_gyration.1       0.103481               -0.015676   \n",
       "skewness_about                   -0.051997                0.082974   \n",
       "skewness_about.1                 -0.185691                0.214734   \n",
       "skewness_about.2                 -0.114727               -0.018990   \n",
       "hollows_ratio                    -0.216719                0.099191   \n",
       "class                             0.339348               -0.258479   \n",
       "\n",
       "                             max.length_rectangularity  scaled_variance  \\\n",
       "compactness                                   0.676143         0.762770   \n",
       "circularity                                   0.961943         0.796822   \n",
       "distance_circularity                          0.774669         0.861980   \n",
       "radius_ratio                                  0.569205         0.794041   \n",
       "pr.axis_aspect_ratio                          0.127128         0.273414   \n",
       "max.length_aspect_ratio                       0.305943         0.318955   \n",
       "scatter_ratio                                 0.808356         0.948296   \n",
       "elongatedness                                -0.775519        -0.936715   \n",
       "pr.axis_rectangularity                        0.811447         0.934568   \n",
       "max.length_rectangularity                     1.000000         0.745209   \n",
       "scaled_variance                               0.745209         1.000000   \n",
       "scaled_variance.1                             0.796018         0.947021   \n",
       "scaled_radius_of_gyration                     0.866425         0.778975   \n",
       "scaled_radius_of_gyration.1                   0.041220         0.112299   \n",
       "skewness_about                                0.135745         0.036005   \n",
       "skewness_about.1                              0.001658         0.195260   \n",
       "skewness_about.2                             -0.104254         0.014418   \n",
       "hollows_ratio                                 0.076770         0.086594   \n",
       "class                                        -0.032399        -0.312443   \n",
       "\n",
       "                             scaled_variance.1  scaled_radius_of_gyration  \\\n",
       "compactness                           0.815901                   0.585156   \n",
       "circularity                           0.838525                   0.926888   \n",
       "distance_circularity                  0.887328                   0.705953   \n",
       "radius_ratio                          0.720150                   0.536536   \n",
       "pr.axis_aspect_ratio                  0.089620                   0.122111   \n",
       "max.length_aspect_ratio               0.143713                   0.189704   \n",
       "scatter_ratio                         0.993784                   0.799266   \n",
       "elongatedness                        -0.955074                  -0.766029   \n",
       "pr.axis_rectangularity                0.989490                   0.797068   \n",
       "max.length_rectangularity             0.796018                   0.866425   \n",
       "scaled_variance                       0.947021                   0.778975   \n",
       "scaled_variance.1                     1.000000                   0.796070   \n",
       "scaled_radius_of_gyration             0.796070                   1.000000   \n",
       "scaled_radius_of_gyration.1          -0.016608                   0.191440   \n",
       "skewness_about                        0.076974                   0.166371   \n",
       "skewness_about.1                      0.201573                  -0.055973   \n",
       "skewness_about.2                      0.006637                  -0.224866   \n",
       "hollows_ratio                         0.103762                  -0.118157   \n",
       "class                                -0.288146                  -0.250389   \n",
       "\n",
       "                             scaled_radius_of_gyration.1  skewness_about  \\\n",
       "compactness                                    -0.250071        0.235687   \n",
       "circularity                                     0.052642        0.144394   \n",
       "distance_circularity                           -0.225852        0.113813   \n",
       "radius_ratio                                   -0.180819        0.048720   \n",
       "pr.axis_aspect_ratio                            0.152776       -0.058481   \n",
       "max.length_aspect_ratio                         0.295574        0.015439   \n",
       "scatter_ratio                                  -0.027985        0.074308   \n",
       "elongatedness                                   0.103481       -0.051997   \n",
       "pr.axis_rectangularity                         -0.015676        0.082974   \n",
       "max.length_rectangularity                       0.041220        0.135745   \n",
       "scaled_variance                                 0.112299        0.036005   \n",
       "scaled_variance.1                              -0.016608        0.076974   \n",
       "scaled_radius_of_gyration                       0.191440        0.166371   \n",
       "scaled_radius_of_gyration.1                     1.000000       -0.088304   \n",
       "skewness_about                                 -0.088304        1.000000   \n",
       "skewness_about.1                               -0.126417       -0.035023   \n",
       "skewness_about.2                               -0.749509        0.115145   \n",
       "hollows_ratio                                  -0.802608        0.096870   \n",
       "class                                          -0.212804        0.119099   \n",
       "\n",
       "                             skewness_about.1  skewness_about.2  \\\n",
       "compactness                          0.157387          0.298526   \n",
       "circularity                         -0.011851         -0.105645   \n",
       "distance_circularity                 0.265553          0.145563   \n",
       "radius_ratio                         0.173832          0.382129   \n",
       "pr.axis_aspect_ratio                -0.032134          0.239849   \n",
       "max.length_aspect_ratio              0.043489         -0.026180   \n",
       "scatter_ratio                        0.213127          0.005167   \n",
       "elongatedness                       -0.185691         -0.114727   \n",
       "pr.axis_rectangularity               0.214734         -0.018990   \n",
       "max.length_rectangularity            0.001658         -0.104254   \n",
       "scaled_variance                      0.195260          0.014418   \n",
       "scaled_variance.1                    0.201573          0.006637   \n",
       "scaled_radius_of_gyration           -0.055973         -0.224866   \n",
       "scaled_radius_of_gyration.1         -0.126417         -0.749509   \n",
       "skewness_about                      -0.035023          0.115145   \n",
       "skewness_about.1                     1.000000          0.077428   \n",
       "skewness_about.2                     0.077428          1.000000   \n",
       "hollows_ratio                        0.205090          0.892840   \n",
       "class                               -0.010674          0.067251   \n",
       "\n",
       "                             hollows_ratio     class  \n",
       "compactness                       0.365552 -0.033796  \n",
       "circularity                       0.045318 -0.159804  \n",
       "distance_circularity              0.332095 -0.064902  \n",
       "radius_ratio                      0.471262 -0.182270  \n",
       "pr.axis_aspect_ratio              0.267724 -0.098318  \n",
       "max.length_aspect_ratio           0.143919  0.207619  \n",
       "scatter_ratio                     0.118448 -0.288904  \n",
       "elongatedness                    -0.216719  0.339348  \n",
       "pr.axis_rectangularity            0.099191 -0.258479  \n",
       "max.length_rectangularity         0.076770 -0.032399  \n",
       "scaled_variance                   0.086594 -0.312443  \n",
       "scaled_variance.1                 0.103762 -0.288146  \n",
       "scaled_radius_of_gyration        -0.118157 -0.250389  \n",
       "scaled_radius_of_gyration.1      -0.802608 -0.212804  \n",
       "skewness_about                    0.096870  0.119099  \n",
       "skewness_about.1                  0.205090 -0.010674  \n",
       "skewness_about.2                  0.892840  0.067251  \n",
       "hollows_ratio                     1.000000  0.235874  \n",
       "class                             0.235874  1.000000  "
      ]
     },
     "execution_count": 19,
     "metadata": {},
     "output_type": "execute_result"
    }
   ],
   "source": [
    "corr=df.corr()\n",
    "corr"
   ]
  },
  {
   "cell_type": "code",
   "execution_count": 20,
   "id": "583b6937",
   "metadata": {},
   "outputs": [
    {
     "data": {
      "image/png": "[encoded data removed]",
      "text/plain": [
       "<Figure size 1296x504 with 2 Axes>"
      ]
     },
     "metadata": {},
     "output_type": "display_data"
    }
   ],
   "source": [
    "sns.set_context(\"notebook\", font_scale=1.0, rc={\"lines.linewidth\": 3.5})\n",
    "plt.figure(figsize=(18,7))\n",
    "# create a mask so we only see the correlation values once\n",
    "mask = np.zeros_like(corr)\n",
    "mask[np.triu_indices_from(mask, 1)] = True\n",
    "a = sns.heatmap(corr,mask=mask, annot=True, fmt='.2f',cmap='cool')\n",
    "rotx = a.set_xticklabels(a.get_xticklabels(), rotation=90)\n",
    "roty = a.set_yticklabels(a.get_yticklabels(), rotation=30)"
   ]
  },
  {
   "cell_type": "markdown",
   "id": "4c0c9ca5",
   "metadata": {},
   "source": [
    "## <div style=\"background-color:#s3C130;font-size:20px;padding:10px 10px;color:black;border:4px solid #1C1B20\">Scaling and spliting Data</div>"
   ]
  },
  {
   "cell_type": "code",
   "execution_count": 33,
   "id": "3bf77bf4",
   "metadata": {},
   "outputs": [],
   "source": [
    "#Splitting the data between independent and dependent variables\n",
    "X=df.iloc[:,0:18]\n",
    "y = df['class']"
   ]
  },
  {
   "cell_type": "code",
   "execution_count": 34,
   "id": "fc63e162",
   "metadata": {},
   "outputs": [],
   "source": [
    "#dropping correlated values which are have either more then 85% or less then -85%\n",
    "X_new=X.drop(['circularity','scatter_ratio','scaled_variance'],axis=1)"
   ]
  },
  {
   "cell_type": "code",
   "execution_count": 35,
   "id": "9530e896",
   "metadata": {},
   "outputs": [],
   "source": [
    "#since there is lots of variety in the units of features let's scale it\n",
    "scaler=StandardScaler().fit(X_new)\n",
    "X_scaled=scaler.transform(X_new)"
   ]
  },
  {
   "cell_type": "code",
   "execution_count": 36,
   "id": "7e6d81ad",
   "metadata": {},
   "outputs": [],
   "source": [
    "# Split X and y into training and test set in 70:30 ratio\n",
    "X_train, X_test, y_train, y_test = train_test_split(X_scaled,y, test_size = 0.3, random_state = 10)"
   ]
  },
  {
   "cell_type": "code",
   "execution_count": 37,
   "id": "0e1fce11",
   "metadata": {},
   "outputs": [
    {
     "name": "stdout",
     "output_type": "stream",
     "text": [
      "(592, 15)\n",
      "(254, 15)\n"
     ]
    }
   ],
   "source": [
    "#checking the dimensions of the train and test set\n",
    "print(X_train.shape) # shape of train data\n",
    "print(X_test.shape) # shape of test data"
   ]
  },
  {
   "cell_type": "markdown",
   "id": "9af70a4d",
   "metadata": {},
   "source": [
    "## <div style=\"background-color:#s3C130;font-size:20px;padding:10px 10px;color:black;border:4px solid #1C1B20\">Support Vector Classifier</div>"
   ]
  },
  {
   "cell_type": "code",
   "execution_count": 38,
   "id": "e2bd4fe6",
   "metadata": {},
   "outputs": [
    {
     "data": {
      "text/html": [
       "<style>#sk-container-id-2 {color: black;background-color: white;}#sk-container-id-2 pre{padding: 0;}#sk-container-id-2 div.sk-toggleable {background-color: white;}#sk-container-id-2 label.sk-toggleable__label {cursor: pointer;display: block;width: 100%;margin-bottom: 0;padding: 0.3em;box-sizing: border-box;text-align: center;}#sk-container-id-2 label.sk-toggleable__label-arrow:before {content: \"▸\";float: left;margin-right: 0.25em;color: #696969;}#sk-container-id-2 label.sk-toggleable__label-arrow:hover:before {color: black;}#sk-container-id-2 div.sk-estimator:hover label.sk-toggleable__label-arrow:before {color: black;}#sk-container-id-2 div.sk-toggleable__content {max-height: 0;max-width: 0;overflow: hidden;text-align: left;background-color: #f0f8ff;}#sk-container-id-2 div.sk-toggleable__content pre {margin: 0.2em;color: black;border-radius: 0.25em;background-color: #f0f8ff;}#sk-container-id-2 input.sk-toggleable__control:checked~div.sk-toggleable__content {max-height: 200px;max-width: 100%;overflow: auto;}#sk-container-id-2 input.sk-toggleable__control:checked~label.sk-toggleable__label-arrow:before {content: \"▾\";}#sk-container-id-2 div.sk-estimator input.sk-toggleable__control:checked~label.sk-toggleable__label {background-color: #d4ebff;}#sk-container-id-2 div.sk-label input.sk-toggleable__control:checked~label.sk-toggleable__label {background-color: #d4ebff;}#sk-container-id-2 input.sk-hidden--visually {border: 0;clip: rect(1px 1px 1px 1px);clip: rect(1px, 1px, 1px, 1px);height: 1px;margin: -1px;overflow: hidden;padding: 0;position: absolute;width: 1px;}#sk-container-id-2 div.sk-estimator {font-family: monospace;background-color: #f0f8ff;border: 1px dotted black;border-radius: 0.25em;box-sizing: border-box;margin-bottom: 0.5em;}#sk-container-id-2 div.sk-estimator:hover {background-color: #d4ebff;}#sk-container-id-2 div.sk-parallel-item::after {content: \"\";width: 100%;border-bottom: 1px solid gray;flex-grow: 1;}#sk-container-id-2 div.sk-label:hover label.sk-toggleable__label {background-color: #d4ebff;}#sk-container-id-2 div.sk-serial::before {content: \"\";position: absolute;border-left: 1px solid gray;box-sizing: border-box;top: 0;bottom: 0;left: 50%;z-index: 0;}#sk-container-id-2 div.sk-serial {display: flex;flex-direction: column;align-items: center;background-color: white;padding-right: 0.2em;padding-left: 0.2em;position: relative;}#sk-container-id-2 div.sk-item {position: relative;z-index: 1;}#sk-container-id-2 div.sk-parallel {display: flex;align-items: stretch;justify-content: center;background-color: white;position: relative;}#sk-container-id-2 div.sk-item::before, #sk-container-id-2 div.sk-parallel-item::before {content: \"\";position: absolute;border-left: 1px solid gray;box-sizing: border-box;top: 0;bottom: 0;left: 50%;z-index: -1;}#sk-container-id-2 div.sk-parallel-item {display: flex;flex-direction: column;z-index: 1;position: relative;background-color: white;}#sk-container-id-2 div.sk-parallel-item:first-child::after {align-self: flex-end;width: 50%;}#sk-container-id-2 div.sk-parallel-item:last-child::after {align-self: flex-start;width: 50%;}#sk-container-id-2 div.sk-parallel-item:only-child::after {width: 0;}#sk-container-id-2 div.sk-dashed-wrapped {border: 1px dashed gray;margin: 0 0.4em 0.5em 0.4em;box-sizing: border-box;padding-bottom: 0.4em;background-color: white;}#sk-container-id-2 div.sk-label label {font-family: monospace;font-weight: bold;display: inline-block;line-height: 1.2em;}#sk-container-id-2 div.sk-label-container {text-align: center;}#sk-container-id-2 div.sk-container {/* jupyter's `normalize.less` sets `[hidden] { display: none; }` but bootstrap.min.css set `[hidden] { display: none !important; }` so we also need the `!important` here to be able to override the default hidden behavior on the sphinx rendered scikit-learn.org. See: https://github.com/scikit-learn/scikit-learn/issues/21755 */display: inline-block !important;position: relative;}#sk-container-id-2 div.sk-text-repr-fallback {display: none;}</style><div id=\"sk-container-id-2\" class=\"sk-top-container\"><div class=\"sk-text-repr-fallback\"><pre>SVC(C=3, gamma=0.05, random_state=0)</pre><b>In a Jupyter environment, please rerun this cell to show the HTML representation or trust the notebook. <br />On GitHub, the HTML representation is unable to render, please try loading this page with nbviewer.org.</b></div><div class=\"sk-container\" hidden><div class=\"sk-item\"><div class=\"sk-estimator sk-toggleable\"><input class=\"sk-toggleable__control sk-hidden--visually\" id=\"sk-estimator-id-2\" type=\"checkbox\" checked><label for=\"sk-estimator-id-2\" class=\"sk-toggleable__label sk-toggleable__label-arrow\">SVC</label><div class=\"sk-toggleable__content\"><pre>SVC(C=3, gamma=0.05, random_state=0)</pre></div></div></div></div></div>"
      ],
      "text/plain": [
       "SVC(C=3, gamma=0.05, random_state=0)"
      ]
     },
     "execution_count": 38,
     "metadata": {},
     "output_type": "execute_result"
    }
   ],
   "source": [
    "from sklearn.svm import SVC\n",
    "svclassifier = SVC(gamma=0.05, C=3,random_state=0) \n",
    "svclassifier.fit(X_train, y_train) # To train the algorithm on training data\n"
   ]
  },
  {
   "cell_type": "code",
   "execution_count": 39,
   "id": "4010f401",
   "metadata": {},
   "outputs": [],
   "source": [
    "y_prediction = svclassifier.predict(X_test) #To make predictions"
   ]
  },
  {
   "cell_type": "code",
   "execution_count": 40,
   "id": "517ed509",
   "metadata": {},
   "outputs": [
    {
     "name": "stdout",
     "output_type": "stream",
     "text": [
      "Accuracy on Training data:  0.9847972972972973\n",
      "Accuracy on Testing data:  0.9763779527559056\n"
     ]
    }
   ],
   "source": [
    "#check the accuracy on the training data\n",
    "print('Accuracy on Training data: ',svclassifier.score(X_train, y_train))\n",
    "# check the accuracy on the testing data\n",
    "print('Accuracy on Testing data: ', svclassifier.score(X_test , y_test))"
   ]
  },
  {
   "cell_type": "code",
   "execution_count": 81,
   "id": "1e5ccec5",
   "metadata": {},
   "outputs": [
    {
     "name": "stdout",
     "output_type": "stream",
     "text": [
      "Confusion Matrix:\n",
      " [[ 69   0   0]\n",
      " [  0 121   0]\n",
      " [  2   4  58]]\n"
     ]
    },
    {
     "data": {
      "text/plain": [
       "<AxesSubplot:>"
      ]
     },
     "execution_count": 81,
     "metadata": {},
     "output_type": "execute_result"
    },
    {
     "data": {
      "image/png": "[encoded data removed]",
      "text/plain": [
       "<Figure size 720x576 with 2 Axes>"
      ]
     },
     "metadata": {},
     "output_type": "display_data"
    }
   ],
   "source": [
    "#measure the accuracy of this model's prediction\n",
    "print(\"Confusion Matrix:\\n\",metrics.confusion_matrix(y_prediction,y_test))\n",
    "cfm_SVC = confusion_matrix(y_prediction, y_test)\n",
    "plt.figure(figsize = (10, 8))\n",
    "sns.heatmap(cfm_SVC, annot = True, cmap = 'icefire', fmt = '.1f')"
   ]
  },
  {
   "cell_type": "code",
   "execution_count": 42,
   "id": "639a8ad9",
   "metadata": {},
   "outputs": [
    {
     "name": "stdout",
     "output_type": "stream",
     "text": [
      "Classification Report:\n",
      "               precision    recall  f1-score   support\n",
      "\n",
      "           0       1.00      0.97      0.99        71\n",
      "           1       1.00      0.97      0.98       125\n",
      "           2       0.91      1.00      0.95        58\n",
      "\n",
      "    accuracy                           0.98       254\n",
      "   macro avg       0.97      0.98      0.97       254\n",
      "weighted avg       0.98      0.98      0.98       254\n",
      "\n"
     ]
    }
   ],
   "source": [
    "#Evaluate Model Score\n",
    "print(\"Classification Report:\\n\",metrics.classification_report(y_test,y_prediction))"
   ]
  },
  {
   "cell_type": "code",
   "execution_count": 43,
   "id": "82f7bbe6",
   "metadata": {},
   "outputs": [
    {
     "name": "stdout",
     "output_type": "stream",
     "text": [
      "Name = SVM before PCA , Mean Accuracy = 0.964492, SD Accuracy = 0.014124\n"
     ]
    }
   ],
   "source": [
    "#Using K fold to check how my algorighm varies throughout my data if we split it in 10 equal bins\n",
    "models = []\n",
    "models.append(('SVM before PCA', SVC(gamma=0.05, C=3)))\n",
    "\n",
    "# evaluate each model\n",
    "results = []\n",
    "names = []\n",
    "scoring = 'accuracy'\n",
    "for name, model in models:\n",
    "\tkfold = model_selection.KFold(n_splits=10, random_state=101,shuffle=True)\n",
    "\tcv_results = model_selection.cross_val_score(model, X_train, y_train, cv=kfold, scoring=scoring)\n",
    "\tresults.append(cv_results)\n",
    "\tnames.append(name)\n",
    "\tprint(\"Name = %s , Mean Accuracy = %f, SD Accuracy = %f\" % (name, cv_results.mean(), cv_results.std()))"
   ]
  },
  {
   "cell_type": "code",
   "execution_count": 46,
   "id": "3547b7da",
   "metadata": {},
   "outputs": [
    {
     "data": {
      "text/plain": [
       "<matplotlib.legend.Legend at 0x1434734b6a0>"
      ]
     },
     "execution_count": 46,
     "metadata": {},
     "output_type": "execute_result"
    },
    {
     "data": {
      "image/png": "[encoded data removed]",
      "text/plain": [
       "<Figure size 1080x864 with 1 Axes>"
      ]
     },
     "metadata": {},
     "output_type": "display_data"
    }
   ],
   "source": [
    "plt.figure(figsize=(15,12))\n",
    "plt.title('Algorithm Variation')\n",
    "plt.plot(results[0],label='SVM before PCA')\n",
    "plt.legend()"
   ]
  },
  {
   "cell_type": "markdown",
   "id": "eea57ee8",
   "metadata": {},
   "source": [
    "## <div style=\"background-color:#s3C130;font-size:20px;padding:10px 10px;color:black;border:4px solid #1C1B20\">Applying PCA and Extaracting Components with 90%variance Coverage</div>"
   ]
  },
  {
   "cell_type": "code",
   "execution_count": 47,
   "id": "83fa8355",
   "metadata": {},
   "outputs": [],
   "source": [
    "#Scaling with all Columns(leaving Target)\n",
    "scaler=StandardScaler().fit(X)\n",
    "X_scaled_PCA=scaler.transform(X)"
   ]
  },
  {
   "cell_type": "code",
   "execution_count": 48,
   "id": "a4433b2e",
   "metadata": {
    "scrolled": true
   },
   "outputs": [
    {
     "name": "stdout",
     "output_type": "stream",
     "text": [
      "[[ 1.00118343  0.68623251  0.79084412  0.69065619  0.09181254  0.14842463\n",
      "   0.81319623 -0.78957587  0.81459888  0.67694334  0.76367265  0.81686705\n",
      "   0.58584865 -0.25036693  0.23596607  0.15757316  0.2988797   0.36598446]\n",
      " [ 0.68623251  1.00118343  0.79395399  0.62170187  0.15354334  0.25150523\n",
      "   0.84921058 -0.82287347  0.84597164  0.96308094  0.7977645   0.83951746\n",
      "   0.92798524  0.05270433  0.14456452 -0.01186527 -0.1057698   0.04537164]\n",
      " [ 0.79084412  0.79395399  1.00118343  0.76798667  0.15858456  0.26486339\n",
      "   0.90547061 -0.91251368  0.89418513  0.77558624  0.86300031  0.88837793\n",
      "   0.70678835 -0.2261194   0.1139479   0.26586756  0.14573497  0.3324884 ]\n",
      " [ 0.69065619  0.62170187  0.76798667  1.00118343  0.6643445   0.45056889\n",
      "   0.73509724 -0.79072934  0.70912305  0.56987817  0.79498064  0.72100219\n",
      "   0.5371705  -0.1810333   0.04877731  0.17403799  0.38258162  0.47181974]\n",
      " [ 0.09181254  0.15354334  0.15858456  0.6643445   1.00118343  0.64947191\n",
      "   0.1038381  -0.18348087  0.07948935  0.12727847  0.27373802  0.08972584\n",
      "   0.12225517  0.15295712 -0.05855013 -0.0321716   0.24013301  0.26804079]\n",
      " [ 0.14842463  0.25150523  0.26486339  0.45056889  0.64947191  1.00118343\n",
      "   0.16616348 -0.18025396  0.16178281  0.30630475  0.31933203  0.14388275\n",
      "   0.18992805  0.29592367  0.01545721  0.04354026 -0.02621063  0.14408905]\n",
      " [ 0.81319623  0.84921058  0.90547061  0.73509724  0.1038381   0.16616348\n",
      "   1.00118343 -0.97187169  0.99054075  0.80931225  0.9494185   0.99496023\n",
      "   0.80021174 -0.02801827  0.07439557  0.213379    0.00517279  0.11858838]\n",
      " [-0.78957587 -0.82287347 -0.91251368 -0.79072934 -0.18348087 -0.18025396\n",
      "  -0.97187169  1.00118343 -0.9502004  -0.77643696 -0.93782312 -0.95620413\n",
      "  -0.76693543  0.10360323 -0.05205875 -0.18591103 -0.11486327 -0.21697531]\n",
      " [ 0.81459888  0.84597164  0.89418513  0.70912305  0.07948935  0.16178281\n",
      "   0.99054075 -0.9502004   1.00118343  0.81240688  0.93567387  0.99066083\n",
      "   0.79801083 -0.01569428  0.08307213  0.21498838 -0.01901199  0.09930879]\n",
      " [ 0.67694334  0.96308094  0.77558624  0.56987817  0.12727847  0.30630475\n",
      "   0.80931225 -0.77643696  0.81240688  1.00118343  0.74609112  0.79695953\n",
      "   0.86744991  0.04126865  0.13590584  0.00166022 -0.10437712  0.07686047]\n",
      " [ 0.76367265  0.7977645   0.86300031  0.79498064  0.27373802  0.31933203\n",
      "   0.9494185  -0.93782312  0.93567387  0.74609112  1.00118343  0.94814159\n",
      "   0.77989661  0.11243163  0.03604752  0.19549063  0.01443503  0.08669654]\n",
      " [ 0.81686705  0.83951746  0.88837793  0.72100219  0.08972584  0.14388275\n",
      "   0.99496023 -0.95620413  0.99066083  0.79695953  0.94814159  1.00118343\n",
      "   0.79701241 -0.0166278   0.07706469  0.20181158  0.00664479  0.10388468]\n",
      " [ 0.58584865  0.92798524  0.70678835  0.5371705   0.12225517  0.18992805\n",
      "   0.80021174 -0.76693543  0.79801083  0.86744991  0.77989661  0.79701241\n",
      "   1.00118343  0.19166642  0.16656805 -0.05603902 -0.22513165 -0.1182971 ]\n",
      " [-0.25036693  0.05270433 -0.2261194  -0.1810333   0.15295712  0.29592367\n",
      "  -0.02801827  0.10360323 -0.01569428  0.04126865  0.11243163 -0.0166278\n",
      "   0.19166642  1.00118343 -0.08840848 -0.12656621 -0.75039641 -0.8035581 ]\n",
      " [ 0.23596607  0.14456452  0.1139479   0.04877731 -0.05855013  0.01545721\n",
      "   0.07439557 -0.05205875  0.08307213  0.13590584  0.03604752  0.07706469\n",
      "   0.16656805 -0.08840848  1.00118343 -0.03506456  0.11528083  0.09698477]\n",
      " [ 0.15757316 -0.01186527  0.26586756  0.17403799 -0.0321716   0.04354026\n",
      "   0.213379   -0.18591103  0.21498838  0.00166022  0.19549063  0.20181158\n",
      "  -0.05603902 -0.12656621 -0.03506456  1.00118343  0.07751919  0.20533271]\n",
      " [ 0.2988797  -0.1057698   0.14573497  0.38258162  0.24013301 -0.02621063\n",
      "   0.00517279 -0.11486327 -0.01901199 -0.10437712  0.01443503  0.00664479\n",
      "  -0.22513165 -0.75039641  0.11528083  0.07751919  1.00118343  0.89389629]\n",
      " [ 0.36598446  0.04537164  0.3324884   0.47181974  0.26804079  0.14408905\n",
      "   0.11858838 -0.21697531  0.09930879  0.07686047  0.08669654  0.10388468\n",
      "  -0.1182971  -0.8035581   0.09698477  0.20533271  0.89389629  1.00118343]]\n"
     ]
    }
   ],
   "source": [
    "#printing Covariance Matrix\n",
    "covMatrix = np.cov(X_scaled_PCA,rowvar=False)\n",
    "print(covMatrix)"
   ]
  },
  {
   "cell_type": "code",
   "execution_count": 49,
   "id": "85ad8897",
   "metadata": {},
   "outputs": [
    {
     "data": {
      "text/html": [
       "<style>#sk-container-id-3 {color: black;background-color: white;}#sk-container-id-3 pre{padding: 0;}#sk-container-id-3 div.sk-toggleable {background-color: white;}#sk-container-id-3 label.sk-toggleable__label {cursor: pointer;display: block;width: 100%;margin-bottom: 0;padding: 0.3em;box-sizing: border-box;text-align: center;}#sk-container-id-3 label.sk-toggleable__label-arrow:before {content: \"▸\";float: left;margin-right: 0.25em;color: #696969;}#sk-container-id-3 label.sk-toggleable__label-arrow:hover:before {color: black;}#sk-container-id-3 div.sk-estimator:hover label.sk-toggleable__label-arrow:before {color: black;}#sk-container-id-3 div.sk-toggleable__content {max-height: 0;max-width: 0;overflow: hidden;text-align: left;background-color: #f0f8ff;}#sk-container-id-3 div.sk-toggleable__content pre {margin: 0.2em;color: black;border-radius: 0.25em;background-color: #f0f8ff;}#sk-container-id-3 input.sk-toggleable__control:checked~div.sk-toggleable__content {max-height: 200px;max-width: 100%;overflow: auto;}#sk-container-id-3 input.sk-toggleable__control:checked~label.sk-toggleable__label-arrow:before {content: \"▾\";}#sk-container-id-3 div.sk-estimator input.sk-toggleable__control:checked~label.sk-toggleable__label {background-color: #d4ebff;}#sk-container-id-3 div.sk-label input.sk-toggleable__control:checked~label.sk-toggleable__label {background-color: #d4ebff;}#sk-container-id-3 input.sk-hidden--visually {border: 0;clip: rect(1px 1px 1px 1px);clip: rect(1px, 1px, 1px, 1px);height: 1px;margin: -1px;overflow: hidden;padding: 0;position: absolute;width: 1px;}#sk-container-id-3 div.sk-estimator {font-family: monospace;background-color: #f0f8ff;border: 1px dotted black;border-radius: 0.25em;box-sizing: border-box;margin-bottom: 0.5em;}#sk-container-id-3 div.sk-estimator:hover {background-color: #d4ebff;}#sk-container-id-3 div.sk-parallel-item::after {content: \"\";width: 100%;border-bottom: 1px solid gray;flex-grow: 1;}#sk-container-id-3 div.sk-label:hover label.sk-toggleable__label {background-color: #d4ebff;}#sk-container-id-3 div.sk-serial::before {content: \"\";position: absolute;border-left: 1px solid gray;box-sizing: border-box;top: 0;bottom: 0;left: 50%;z-index: 0;}#sk-container-id-3 div.sk-serial {display: flex;flex-direction: column;align-items: center;background-color: white;padding-right: 0.2em;padding-left: 0.2em;position: relative;}#sk-container-id-3 div.sk-item {position: relative;z-index: 1;}#sk-container-id-3 div.sk-parallel {display: flex;align-items: stretch;justify-content: center;background-color: white;position: relative;}#sk-container-id-3 div.sk-item::before, #sk-container-id-3 div.sk-parallel-item::before {content: \"\";position: absolute;border-left: 1px solid gray;box-sizing: border-box;top: 0;bottom: 0;left: 50%;z-index: -1;}#sk-container-id-3 div.sk-parallel-item {display: flex;flex-direction: column;z-index: 1;position: relative;background-color: white;}#sk-container-id-3 div.sk-parallel-item:first-child::after {align-self: flex-end;width: 50%;}#sk-container-id-3 div.sk-parallel-item:last-child::after {align-self: flex-start;width: 50%;}#sk-container-id-3 div.sk-parallel-item:only-child::after {width: 0;}#sk-container-id-3 div.sk-dashed-wrapped {border: 1px dashed gray;margin: 0 0.4em 0.5em 0.4em;box-sizing: border-box;padding-bottom: 0.4em;background-color: white;}#sk-container-id-3 div.sk-label label {font-family: monospace;font-weight: bold;display: inline-block;line-height: 1.2em;}#sk-container-id-3 div.sk-label-container {text-align: center;}#sk-container-id-3 div.sk-container {/* jupyter's `normalize.less` sets `[hidden] { display: none; }` but bootstrap.min.css set `[hidden] { display: none !important; }` so we also need the `!important` here to be able to override the default hidden behavior on the sphinx rendered scikit-learn.org. See: https://github.com/scikit-learn/scikit-learn/issues/21755 */display: inline-block !important;position: relative;}#sk-container-id-3 div.sk-text-repr-fallback {display: none;}</style><div id=\"sk-container-id-3\" class=\"sk-top-container\"><div class=\"sk-text-repr-fallback\"><pre>PCA(n_components=10)</pre><b>In a Jupyter environment, please rerun this cell to show the HTML representation or trust the notebook. <br />On GitHub, the HTML representation is unable to render, please try loading this page with nbviewer.org.</b></div><div class=\"sk-container\" hidden><div class=\"sk-item\"><div class=\"sk-estimator sk-toggleable\"><input class=\"sk-toggleable__control sk-hidden--visually\" id=\"sk-estimator-id-3\" type=\"checkbox\" checked><label for=\"sk-estimator-id-3\" class=\"sk-toggleable__label sk-toggleable__label-arrow\">PCA</label><div class=\"sk-toggleable__content\"><pre>PCA(n_components=10)</pre></div></div></div></div></div>"
      ],
      "text/plain": [
       "PCA(n_components=10)"
      ]
     },
     "execution_count": 49,
     "metadata": {},
     "output_type": "execute_result"
    }
   ],
   "source": [
    "#choosing n_component as 10 \n",
    "pca = PCA(n_components=10)\n",
    "pca.fit(X_scaled_PCA)"
   ]
  },
  {
   "cell_type": "code",
   "execution_count": 50,
   "id": "f2c0f611",
   "metadata": {},
   "outputs": [
    {
     "name": "stdout",
     "output_type": "stream",
     "text": [
      "[9.40828822 3.01605477 1.90347881 1.18027268 0.91717407 0.53927982\n",
      " 0.35856646 0.22166173 0.16003619 0.09171409]\n"
     ]
    }
   ],
   "source": [
    "#eigen values\n",
    "print(pca.explained_variance_)"
   ]
  },
  {
   "cell_type": "code",
   "execution_count": 51,
   "id": "679b3642",
   "metadata": {},
   "outputs": [
    {
     "name": "stdout",
     "output_type": "stream",
     "text": [
      "[ 0.27525946  0.29339234  0.30455645  0.26759321  0.0804939   0.09721986\n",
      "  0.31687201 -0.31404236  0.31395301  0.28279042  0.30931053  0.31414903\n",
      "  0.27200252 -0.02091798  0.04133167  0.05833316  0.03015605  0.07408137]\n"
     ]
    }
   ],
   "source": [
    "#eigen Vectors\n",
    "print(pca.components_[0])"
   ]
  },
  {
   "cell_type": "code",
   "execution_count": 52,
   "id": "1de364ea",
   "metadata": {},
   "outputs": [
    {
     "name": "stdout",
     "output_type": "stream",
     "text": [
      "[0.52206485 0.16736054 0.10562382 0.0654932  0.05089389 0.02992458\n",
      " 0.01989681 0.01229998 0.00888039 0.0050892 ]\n"
     ]
    }
   ],
   "source": [
    "#percentage of variance explained by each vector\n",
    "print(pca.explained_variance_ratio_)"
   ]
  },
  {
   "cell_type": "code",
   "execution_count": 53,
   "id": "a11e54aa",
   "metadata": {},
   "outputs": [
    {
     "data": {
      "text/plain": [
       "Text(0.5, 0, 'eigen Value')"
      ]
     },
     "execution_count": 53,
     "metadata": {},
     "output_type": "execute_result"
    },
    {
     "data": {
      "image/png": "[encoded data removed]",
      "text/plain": [
       "<Figure size 1080x864 with 1 Axes>"
      ]
     },
     "metadata": {},
     "output_type": "display_data"
    }
   ],
   "source": [
    "#visualising it\n",
    "plt.figure(figsize=(15,12))\n",
    "plt.bar(list(range(1,11)),pca.explained_variance_ratio_,alpha=0.5, align='center')\n",
    "plt.ylabel('Variation explained')\n",
    "plt.xlabel('eigen Value')"
   ]
  },
  {
   "cell_type": "markdown",
   "id": "3b0685d6",
   "metadata": {},
   "source": [
    "## <div style=\"background-color:#s3C130;font-size:20px;padding:10px 10px;color:black;border:4px solid #1C1B20\">horizontal line on the below plot to highlight the threshold of 90%</div>"
   ]
  },
  {
   "cell_type": "code",
   "execution_count": 82,
   "id": "7b4e1776",
   "metadata": {},
   "outputs": [
    {
     "data": {
      "text/plain": [
       "Text(0.5, 0, 'eigen Value')"
      ]
     },
     "execution_count": 82,
     "metadata": {},
     "output_type": "execute_result"
    },
    {
     "data": {
      "image/png": "[encoded data removed]",
      "text/plain": [
       "<Figure size 864x432 with 1 Axes>"
      ]
     },
     "metadata": {},
     "output_type": "display_data"
    }
   ],
   "source": [
    "#cummilative variance explained via each vector\n",
    "fig, (ax1) = plt.subplots(1)\n",
    "plt.step(list(range(1,11)),np.cumsum(pca.explained_variance_ratio_), where='mid')\n",
    "ax1.axhline(y=0.9, xmin=0, xmax=3, c=\"red\", linewidth=2, zorder=0)\n",
    "plt.ylabel('Cum of variation explained')\n",
    "plt.xlabel('eigen Value')"
   ]
  },
  {
   "cell_type": "markdown",
   "id": "44d4b14e",
   "metadata": {},
   "source": [
    "#### We can conclude that if we take 7 Components we will be covering more than 95% of variance"
   ]
  },
  {
   "cell_type": "markdown",
   "id": "fa038369",
   "metadata": {},
   "source": [
    "## <div style=\"background-color:#s3C130;font-size:20px;padding:10px 10px;color:black;border:4px solid #1C1B20\">Repeating SVM Algorithm with PCA(7 components) to see the Efficiency</div>"
   ]
  },
  {
   "cell_type": "code",
   "execution_count": 65,
   "id": "2afe9532",
   "metadata": {},
   "outputs": [
    {
     "data": {
      "text/plain": [
       "array([ 0.3323932 , -0.21863838,  1.00128619,  0.17732785,  0.07910624,\n",
       "       -0.75481358, -0.90218666])"
      ]
     },
     "execution_count": 65,
     "metadata": {},
     "output_type": "execute_result"
    }
   ],
   "source": [
    "#transforming and storing result in X_Train_PCA\n",
    "pca_model_test = PCA(n_components=7)\n",
    "pca_model_test.fit(X_scaled_PCA)\n",
    "X_PCA= pca_model_test.transform(X_scaled_PCA)\n",
    "X_PCA[0]"
   ]
  },
  {
   "cell_type": "code",
   "execution_count": 67,
   "id": "5e598522",
   "metadata": {},
   "outputs": [],
   "source": [
    "# Split X and y into training and test set in 70:30 ratio\n",
    "X_train_PCA, X_test_PCA, y_train_PCA, y_test_PCA = train_test_split(X_PCA,y, test_size = 0.3, random_state = 10)"
   ]
  },
  {
   "cell_type": "code",
   "execution_count": 68,
   "id": "c9b0ff12",
   "metadata": {},
   "outputs": [
    {
     "data": {
      "text/html": [
       "<style>#sk-container-id-6 {color: black;background-color: white;}#sk-container-id-6 pre{padding: 0;}#sk-container-id-6 div.sk-toggleable {background-color: white;}#sk-container-id-6 label.sk-toggleable__label {cursor: pointer;display: block;width: 100%;margin-bottom: 0;padding: 0.3em;box-sizing: border-box;text-align: center;}#sk-container-id-6 label.sk-toggleable__label-arrow:before {content: \"▸\";float: left;margin-right: 0.25em;color: #696969;}#sk-container-id-6 label.sk-toggleable__label-arrow:hover:before {color: black;}#sk-container-id-6 div.sk-estimator:hover label.sk-toggleable__label-arrow:before {color: black;}#sk-container-id-6 div.sk-toggleable__content {max-height: 0;max-width: 0;overflow: hidden;text-align: left;background-color: #f0f8ff;}#sk-container-id-6 div.sk-toggleable__content pre {margin: 0.2em;color: black;border-radius: 0.25em;background-color: #f0f8ff;}#sk-container-id-6 input.sk-toggleable__control:checked~div.sk-toggleable__content {max-height: 200px;max-width: 100%;overflow: auto;}#sk-container-id-6 input.sk-toggleable__control:checked~label.sk-toggleable__label-arrow:before {content: \"▾\";}#sk-container-id-6 div.sk-estimator input.sk-toggleable__control:checked~label.sk-toggleable__label {background-color: #d4ebff;}#sk-container-id-6 div.sk-label input.sk-toggleable__control:checked~label.sk-toggleable__label {background-color: #d4ebff;}#sk-container-id-6 input.sk-hidden--visually {border: 0;clip: rect(1px 1px 1px 1px);clip: rect(1px, 1px, 1px, 1px);height: 1px;margin: -1px;overflow: hidden;padding: 0;position: absolute;width: 1px;}#sk-container-id-6 div.sk-estimator {font-family: monospace;background-color: #f0f8ff;border: 1px dotted black;border-radius: 0.25em;box-sizing: border-box;margin-bottom: 0.5em;}#sk-container-id-6 div.sk-estimator:hover {background-color: #d4ebff;}#sk-container-id-6 div.sk-parallel-item::after {content: \"\";width: 100%;border-bottom: 1px solid gray;flex-grow: 1;}#sk-container-id-6 div.sk-label:hover label.sk-toggleable__label {background-color: #d4ebff;}#sk-container-id-6 div.sk-serial::before {content: \"\";position: absolute;border-left: 1px solid gray;box-sizing: border-box;top: 0;bottom: 0;left: 50%;z-index: 0;}#sk-container-id-6 div.sk-serial {display: flex;flex-direction: column;align-items: center;background-color: white;padding-right: 0.2em;padding-left: 0.2em;position: relative;}#sk-container-id-6 div.sk-item {position: relative;z-index: 1;}#sk-container-id-6 div.sk-parallel {display: flex;align-items: stretch;justify-content: center;background-color: white;position: relative;}#sk-container-id-6 div.sk-item::before, #sk-container-id-6 div.sk-parallel-item::before {content: \"\";position: absolute;border-left: 1px solid gray;box-sizing: border-box;top: 0;bottom: 0;left: 50%;z-index: -1;}#sk-container-id-6 div.sk-parallel-item {display: flex;flex-direction: column;z-index: 1;position: relative;background-color: white;}#sk-container-id-6 div.sk-parallel-item:first-child::after {align-self: flex-end;width: 50%;}#sk-container-id-6 div.sk-parallel-item:last-child::after {align-self: flex-start;width: 50%;}#sk-container-id-6 div.sk-parallel-item:only-child::after {width: 0;}#sk-container-id-6 div.sk-dashed-wrapped {border: 1px dashed gray;margin: 0 0.4em 0.5em 0.4em;box-sizing: border-box;padding-bottom: 0.4em;background-color: white;}#sk-container-id-6 div.sk-label label {font-family: monospace;font-weight: bold;display: inline-block;line-height: 1.2em;}#sk-container-id-6 div.sk-label-container {text-align: center;}#sk-container-id-6 div.sk-container {/* jupyter's `normalize.less` sets `[hidden] { display: none; }` but bootstrap.min.css set `[hidden] { display: none !important; }` so we also need the `!important` here to be able to override the default hidden behavior on the sphinx rendered scikit-learn.org. See: https://github.com/scikit-learn/scikit-learn/issues/21755 */display: inline-block !important;position: relative;}#sk-container-id-6 div.sk-text-repr-fallback {display: none;}</style><div id=\"sk-container-id-6\" class=\"sk-top-container\"><div class=\"sk-text-repr-fallback\"><pre>SVC(C=3, gamma=0.05, random_state=0)</pre><b>In a Jupyter environment, please rerun this cell to show the HTML representation or trust the notebook. <br />On GitHub, the HTML representation is unable to render, please try loading this page with nbviewer.org.</b></div><div class=\"sk-container\" hidden><div class=\"sk-item\"><div class=\"sk-estimator sk-toggleable\"><input class=\"sk-toggleable__control sk-hidden--visually\" id=\"sk-estimator-id-6\" type=\"checkbox\" checked><label for=\"sk-estimator-id-6\" class=\"sk-toggleable__label sk-toggleable__label-arrow\">SVC</label><div class=\"sk-toggleable__content\"><pre>SVC(C=3, gamma=0.05, random_state=0)</pre></div></div></div></div></div>"
      ],
      "text/plain": [
       "SVC(C=3, gamma=0.05, random_state=0)"
      ]
     },
     "execution_count": 68,
     "metadata": {},
     "output_type": "execute_result"
    }
   ],
   "source": [
    "#model Building\n",
    "svclassifier_PCA = SVC(gamma=0.05, C=3,random_state=0) \n",
    "svclassifier_PCA.fit(X_train_PCA,y_train_PCA)"
   ]
  },
  {
   "cell_type": "code",
   "execution_count": 69,
   "id": "37e08556",
   "metadata": {},
   "outputs": [],
   "source": [
    "#To make predictions\n",
    "y_prediction_PCA = svclassifier_PCA.predict(X_test_PCA) "
   ]
  },
  {
   "cell_type": "code",
   "execution_count": 70,
   "id": "dca7888c",
   "metadata": {},
   "outputs": [
    {
     "name": "stdout",
     "output_type": "stream",
     "text": [
      "Accuracy on Training data after PCA:  0.9594594594594594\n",
      "Accuracy on Training data after PCA:  0.9133858267716536\n"
     ]
    }
   ],
   "source": [
    "#check the accuracy on the training data\n",
    "print('Accuracy on Training data after PCA: ',svclassifier_PCA.score(X_train_PCA, y_train_PCA))\n",
    "#check the accuracy on the test data\n",
    "print('Accuracy on Training data after PCA: ',svclassifier_PCA.score(X_test_PCA, y_test_PCA))"
   ]
  },
  {
   "cell_type": "code",
   "execution_count": 79,
   "id": "865cb624",
   "metadata": {},
   "outputs": [
    {
     "name": "stdout",
     "output_type": "stream",
     "text": [
      "Confusion Matrix:\n",
      " [[ 63   1   1]\n",
      " [  5 116   4]\n",
      " [  3   8  53]]\n"
     ]
    },
    {
     "data": {
      "text/plain": [
       "<AxesSubplot:>"
      ]
     },
     "execution_count": 79,
     "metadata": {},
     "output_type": "execute_result"
    },
    {
     "data": {
      "image/png": "[encoded data removed]",
      "text/plain": [
       "<Figure size 720x576 with 2 Axes>"
      ]
     },
     "metadata": {},
     "output_type": "display_data"
    }
   ],
   "source": [
    "#measure the accuracy of this model's prediction\n",
    "print(\"Confusion Matrix:\\n\",metrics.confusion_matrix(y_prediction_PCA,y_test_PCA))\n",
    "cfm_SVC = confusion_matrix(y_test_PCA, y_prediction_PCA)\n",
    "plt.figure(figsize = (10, 8))\n",
    "sns.heatmap(cfm_SVC, annot = True, cmap = 'cool', fmt = '.1f')"
   ]
  },
  {
   "cell_type": "code",
   "execution_count": 83,
   "id": "13cb5f42",
   "metadata": {},
   "outputs": [
    {
     "name": "stdout",
     "output_type": "stream",
     "text": [
      "Classification Report:\n",
      "               precision    recall  f1-score   support\n",
      "\n",
      "           0       0.97      0.89      0.93        71\n",
      "           1       0.93      0.93      0.93       125\n",
      "           2       0.83      0.91      0.87        58\n",
      "\n",
      "    accuracy                           0.91       254\n",
      "   macro avg       0.91      0.91      0.91       254\n",
      "weighted avg       0.92      0.91      0.91       254\n",
      "\n"
     ]
    }
   ],
   "source": [
    "#Evaluate Model Score\n",
    "print(\"Classification Report:\\n\",metrics.classification_report(y_test_PCA,y_prediction_PCA))"
   ]
  },
  {
   "cell_type": "markdown",
   "id": "0f9a8490",
   "metadata": {},
   "source": [
    "> **from above obervations it is clear that after reducing dimensions through PCA we are still gettting accuracy of 91%**\n"
   ]
  },
  {
   "cell_type": "code",
   "execution_count": 85,
   "id": "10defb94",
   "metadata": {},
   "outputs": [
    {
     "name": "stdout",
     "output_type": "stream",
     "text": [
      "Name = SVM After PCA , Mean Accuracy = 0.928955, SD Accuracy = 0.029293\n"
     ]
    }
   ],
   "source": [
    "#Using K fold to check how my algorighm varies throughout my data if we split it in 10 equal bins\n",
    "models = []\n",
    "models.append(('SVM After PCA', SVC(gamma=0.05, C=3)))\n",
    "\n",
    "# evaluate each model\n",
    "results_PCA = []\n",
    "names = []\n",
    "scoring = 'accuracy'\n",
    "for name, model in models:\n",
    "\tkfold = model_selection.KFold(n_splits=10, random_state=101,shuffle=True)\n",
    "\tcv_results_PCA = model_selection.cross_val_score(model, X_train_PCA, y_train_PCA, cv=kfold, scoring=scoring)\n",
    "\tresults_PCA.append(cv_results_PCA)\n",
    "\tnames.append(name)\n",
    "\tprint(\"Name = %s , Mean Accuracy = %f, SD Accuracy = %f\" % (name, cv_results_PCA.mean(), cv_results_PCA.std()))"
   ]
  },
  {
   "cell_type": "code",
   "execution_count": 86,
   "id": "b3254f96",
   "metadata": {},
   "outputs": [
    {
     "data": {
      "text/plain": [
       "<matplotlib.legend.Legend at 0x1434bd69d90>"
      ]
     },
     "execution_count": 86,
     "metadata": {},
     "output_type": "execute_result"
    },
    {
     "data": {
      "image/png": "[encoded data removed]",
      "text/plain": [
       "<Figure size 864x432 with 1 Axes>"
      ]
     },
     "metadata": {},
     "output_type": "display_data"
    }
   ],
   "source": [
    "fig = plt.figure()\n",
    "fig.suptitle(\"SVM Variation with 15 'Attributes' vs 7 'Components'\")\n",
    "ax = fig.add_subplot(111)\n",
    "plt.plot(results[0],label='SVM with 15 attributes')\n",
    "plt.plot(results_PCA[0],label='SVM with 7 components')\n",
    "plt.legend()"
   ]
  },
  {
   "cell_type": "code",
   "execution_count": 87,
   "id": "b41a1458",
   "metadata": {},
   "outputs": [
    {
     "data": {
      "text/html": [
       "<div>\n",
       "<style scoped>\n",
       "    .dataframe tbody tr th:only-of-type {\n",
       "        vertical-align: middle;\n",
       "    }\n",
       "\n",
       "    .dataframe tbody tr th {\n",
       "        vertical-align: top;\n",
       "    }\n",
       "\n",
       "    .dataframe thead th {\n",
       "        text-align: right;\n",
       "    }\n",
       "</style>\n",
       "<table border=\"1\" class=\"dataframe\">\n",
       "  <thead>\n",
       "    <tr style=\"text-align: right;\">\n",
       "      <th></th>\n",
       "      <th>Model</th>\n",
       "      <th>Mean Accuracy</th>\n",
       "      <th>Standard Deviation</th>\n",
       "    </tr>\n",
       "  </thead>\n",
       "  <tbody>\n",
       "    <tr>\n",
       "      <th>0</th>\n",
       "      <td>SVM with 15 attribute</td>\n",
       "      <td>0.964492</td>\n",
       "      <td>0.014124</td>\n",
       "    </tr>\n",
       "    <tr>\n",
       "      <th>1</th>\n",
       "      <td>SVM with 7 Components</td>\n",
       "      <td>0.928955</td>\n",
       "      <td>0.029293</td>\n",
       "    </tr>\n",
       "  </tbody>\n",
       "</table>\n",
       "</div>"
      ],
      "text/plain": [
       "                   Model  Mean Accuracy  Standard Deviation\n",
       "0  SVM with 15 attribute       0.964492            0.014124\n",
       "1  SVM with 7 Components       0.928955            0.029293"
      ]
     },
     "execution_count": 87,
     "metadata": {},
     "output_type": "execute_result"
    }
   ],
   "source": [
    "Accuracy_df=pd.DataFrame([{'Model':'SVM with 15 attribute','Mean Accuracy': cv_results.mean(),'Standard Deviation':cv_results.std()},\n",
    "                       {'Model':'SVM with 7 Components','Mean Accuracy':cv_results_PCA.mean(),'Standard Deviation':cv_results_PCA.std()}\n",
    "                       ] ) \n",
    "Accuracy_df=Accuracy_df[['Model','Mean Accuracy','Standard Deviation']]\n",
    "Accuracy_df\n"
   ]
  },
  {
   "cell_type": "markdown",
   "id": "bdf50215",
   "metadata": {},
   "source": [
    "# Conclusion\n",
    "1. This study of Algorithm variation over the dimension reduction techniques shows how benificial it might get.\n",
    "2. From the above DataFrame we can see that with the Raw data that was intially provided to us having 18columns i.e. 17 attributes gives accuracy of (93-99)% over SVM.\n",
    "3. If we Build a PCA and reduce dimension from 17 to 7, that is we are almost droping 10 dimensions yet the accuracy is (89-95)%\n",
    "4. From this behaviour we can conclude how efficient is our PCA, it made our Algo more reliable, Fast and ready for production."
   ]
  },
  {
   "cell_type": "markdown",
   "id": "316b4dd6",
   "metadata": {},
   "source": [
    "## <div style=\"background-color:#s3C130;font-size:20px;padding:10px 10px;color:black;border:4px solid #1C1B20\">pre-requisite/assumptions of PCA</div>"
   ]
  },
  {
   "cell_type": "markdown",
   "id": "e8c7673c",
   "metadata": {},
   "source": [
    "**Pre-requisites of using PCA**\n",
    "\n",
    "* Whenever we want to ensure that variables in data are independent to each other.\n",
    "* When we want to reduce the number of variables in a data set with many variables in it.\n",
    "* When we want to interpret data and variable selection out of it.\n",
    "* Data needs to be standardized before implementing PCA else it becomes difficult to identify optimal principal components.\n",
    "\n",
    "**Assumptions of PCA**\n",
    "\n",
    "* Independent variables are highly correlated to each other.\n",
    "* There must be linearity in the data set, i.e. the variables combine in a linear manner to form the dataset. The variables exhibit relationships among themselves.\n",
    "* Variables included are metric level or nominal level.\n",
    "* Features are low dimensional in nature.\n",
    "* Independent variables are numeric in nature.\n",
    "* PCA assumes that the principal component with high variance must be paid attention and the PCs with lower variance are disregarded as noise. Pearson correlation coefficient framework led to the origin of PCA, and there it was assumed first that the axes with high variance would only be turned into principal components."
   ]
  },
  {
   "cell_type": "markdown",
   "id": "42b49e08",
   "metadata": {},
   "source": [
    "## <div style=\"background-color:#s3C130;font-size:20px;padding:10px 10px;color:black;border:4px solid #1C1B20\">Explain advantages and limitations of PCA.</div>"
   ]
  },
  {
   "cell_type": "markdown",
   "id": "4410f421",
   "metadata": {},
   "source": [
    "**Advantages**\n",
    "\n",
    "* PCA is a widely used technique for decreasing the dimensions of a feature set.\n",
    "* PCA can be used as a data reduction technique as it allows us to find the most important variables that are needed to describe a dataset. \n",
    "* PCA can also be used to reduce the dimensionality of the data space in order to get insight on the inner structure of the data. This is helpful when dealing with large datasets.\n",
    "* Principal components are independent of each other, so removes correlated features.\n",
    "* PCA improves the performance of the ML algorithm as it eliminates correlated variables that don't contribute in any decision making.\n",
    "* PCA helps in overcoming data overfitting issues by decreasing the number of features.\n",
    "* PCA results in high variance and thus improves visualization.\n",
    "* Reduction of noise since the maximum variation basis is chosen and so the small variations in the background are ignored automatically.\n",
    "\n",
    "\n",
    "**Limitations**\n",
    "\n",
    "* PCA effectiveness depends upon the scales of the attributes. If attributes have different scales, PCA will pick variable with highest variance rather than picking up attributes based on correlation\n",
    "* Changing scales of the variables can change the PCA\n",
    "* Interpreting PCA can become challenging due to presence of discrete data\n",
    "* Presence of skew in data with long thick tail can impact the effectiveness of the PCA\n",
    "* PCA assumes linear relationship between attributes. It is ineffective when relationships are non linear\n",
    "* PCA can also lead to low model performance after applying it if the original dataset has a weak correlation or no correlation. The variables need to be related to one other to apply PCA perfectly.\n",
    "* It is not suitable for small data sets \n",
    "*  It does not find the important factors but selects them based on the values. So, it is difficult to find the important factors.\n",
    "* It does not have a strong mathematical structure behind it.\n",
    "* It cannot find any non-linear relationships."
   ]
  },
  {
   "cell_type": "markdown",
   "id": "d27ac221",
   "metadata": {},
   "source": [
    "![alt text](https://drive.google.com/uc?export=view&id=1UXScsVx_Wni_JuDdB8LeTnM6jsPfIwkW)"
   ]
  }
 ],
 "metadata": {
  "kernelspec": {
   "display_name": "Python 3 (ipykernel)",
   "language": "python",
   "name": "python3"
  },
  "language_info": {
   "codemirror_mode": {
    "name": "ipython",
    "version": 3
   },
   "file_extension": ".py",
   "mimetype": "text/x-python",
   "name": "python",
   "nbconvert_exporter": "python",
   "pygments_lexer": "ipython3",
   "version": "3.9.12"
  }
 },
 "nbformat": 4,
 "nbformat_minor": 5
}
